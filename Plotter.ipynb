{
  "nbformat": 4,
  "nbformat_minor": 0,
  "metadata": {
    "colab": {
      "name": "Plotter.ipynb",
      "provenance": [],
      "collapsed_sections": [],
      "authorship_tag": "ABX9TyNmPpXmP5ZJX4FlDN0/nhrb",
      "include_colab_link": true
    },
    "kernelspec": {
      "name": "python3",
      "display_name": "Python 3"
    }
  },
  "cells": [
    {
      "cell_type": "markdown",
      "metadata": {
        "id": "view-in-github",
        "colab_type": "text"
      },
      "source": [
        "<a href=\"https://colab.research.google.com/github/mukulsingh94868/Python-Projects/blob/master/Plotter.ipynb\" target=\"_parent\"><img src=\"https://colab.research.google.com/assets/colab-badge.svg\" alt=\"Open In Colab\"/></a>"
      ]
    },
    {
      "cell_type": "code",
      "metadata": {
        "id": "UoO2nQZiE4Ex",
        "colab_type": "code",
        "colab": {}
      },
      "source": [
        "import numpy as np\n",
        "import pandas as pd\n",
        "import plotly as pl\n",
        "import plotly.offline as po\n",
        "import cufflinks as cf"
      ],
      "execution_count": 0,
      "outputs": []
    },
    {
      "cell_type": "code",
      "metadata": {
        "id": "qB1l3ouFFF0Y",
        "colab_type": "code",
        "colab": {
          "base_uri": "https://localhost:8080/",
          "height": 17
        },
        "outputId": "158d469c-e73e-4f8d-fb66-3366dba70e9c"
      },
      "source": [
        "po.init_notebook_mode(connected = True)\n",
        "cf.go_offline()"
      ],
      "execution_count": 15,
      "outputs": [
        {
          "output_type": "display_data",
          "data": {
            "text/html": [
              "        <script type=\"text/javascript\">\n",
              "        window.PlotlyConfig = {MathJaxConfig: 'local'};\n",
              "        if (window.MathJax) {MathJax.Hub.Config({SVG: {font: \"STIX-Web\"}});}\n",
              "        if (typeof require !== 'undefined') {\n",
              "        require.undef(\"plotly\");\n",
              "        requirejs.config({\n",
              "            paths: {\n",
              "                'plotly': ['https://cdn.plot.ly/plotly-latest.min']\n",
              "            }\n",
              "        });\n",
              "        require(['plotly'], function(Plotly) {\n",
              "            window._Plotly = Plotly;\n",
              "        });\n",
              "        }\n",
              "        </script>\n",
              "        "
            ]
          },
          "metadata": {
            "tags": []
          }
        },
        {
          "output_type": "display_data",
          "data": {
            "text/html": [
              "        <script type=\"text/javascript\">\n",
              "        window.PlotlyConfig = {MathJaxConfig: 'local'};\n",
              "        if (window.MathJax) {MathJax.Hub.Config({SVG: {font: \"STIX-Web\"}});}\n",
              "        if (typeof require !== 'undefined') {\n",
              "        require.undef(\"plotly\");\n",
              "        requirejs.config({\n",
              "            paths: {\n",
              "                'plotly': ['https://cdn.plot.ly/plotly-latest.min']\n",
              "            }\n",
              "        });\n",
              "        require(['plotly'], function(Plotly) {\n",
              "            window._Plotly = Plotly;\n",
              "        });\n",
              "        }\n",
              "        </script>\n",
              "        "
            ]
          },
          "metadata": {
            "tags": []
          }
        }
      ]
    },
    {
      "cell_type": "code",
      "metadata": {
        "id": "wJo0HYZnFQrd",
        "colab_type": "code",
        "colab": {}
      },
      "source": [
        "def createdata(data):\n",
        "    if(data == 1):\n",
        "        x = np.random.rand(100,5)\n",
        "        df1 = pd.DataFrame(x,columns=['A','B','C','D','E'])\n",
        "    elif(data == 2):\n",
        "        x = [0,0,0,0,0]\n",
        "        r1= [0,0,0,0,0]\n",
        "        r2= [0,0,0,0,0]\n",
        "        r3= [0,0,0,0,0]\n",
        "        r4= [0,0,0,0,0]\n",
        "        print('Enter the values for columns')\n",
        "        i=0\n",
        "        for i in [0,1,2,3,4]:\n",
        "            x[i] = input()\n",
        "            i = i + 1\n",
        "        print('Enter the values for first row')\n",
        "        i=0\n",
        "        for i in [0,1,2,3,4]:\n",
        "            r1[i] = int(input())\n",
        "            i = i + 1\n",
        "        print('Enter the values for second row')\n",
        "        i=0\n",
        "        for i in [0,1,2,3,4]:\n",
        "            r2[i] = int(input())\n",
        "            i = i + 1\n",
        "        print('Enter the values for third row')\n",
        "        i=0\n",
        "        for i in [0,1,2,3,4]:\n",
        "            r3[i] = int(input())\n",
        "            i = i + 1\n",
        "        print('Enter the values for fourth row')\n",
        "        i=0\n",
        "        for i in [0,1,2,3,4]:\n",
        "            r4[i] = int(input())\n",
        "            i = i + 1\n",
        "        df1 = pd.DataFrame([r1,r2,r3,r4] , columns = x)\n",
        "    elif(data == 3):\n",
        "        file = input('Enter the file name')\n",
        "        x = pd.read_csv(file)\n",
        "        df1 = pd.DataFrame(x)\n",
        "    else:\n",
        "        print('DataFrame creation failed please enter in between 1 to 3 and try again')\n",
        "    return df1"
      ],
      "execution_count": 0,
      "outputs": []
    },
    {
      "cell_type": "code",
      "metadata": {
        "id": "uiCo9fn9FU-N",
        "colab_type": "code",
        "colab": {}
      },
      "source": [
        "def plotter(plot):\n",
        "    if(plot == 1):\n",
        "        finalplot = df1.iplot(kind='scatter')\n",
        "    elif(plot == 2):\n",
        "        finalplot = df1.iplot(kind='scatter',mode='markers' ,symbol='x',colorscale='paired')\n",
        "    elif(plot == 3):\n",
        "        finalplot = df1.iplot(kind='bar')\n",
        "    elif(plot == 4):\n",
        "        finalplot = df1.iplot(kind='hist')\n",
        "    elif(plot == 5):\n",
        "        finalplot = df1.iplot(kind='box')\n",
        "    elif(plot == 6):\n",
        "        finalplot = df1.iplot(kind='surface')\n",
        "    else:\n",
        "        finalplot = print('Select only between 1 to 7')\n",
        "    return finalplot"
      ],
      "execution_count": 0,
      "outputs": []
    },
    {
      "cell_type": "code",
      "metadata": {
        "id": "8ZJDmA3vFabb",
        "colab_type": "code",
        "colab": {}
      },
      "source": [
        "def plotter2(plot):\n",
        "    col = input('Enter the number of columns you want to plot by selecting only 1 , 2 or 3')\n",
        "    col = int(col)\n",
        "    if(col==1):\n",
        "        colm = input('Enter the column you want to plot by selecting any column from dataframe head')\n",
        "        if(plot==1):\n",
        "            finalplot = df1[colm].iplot(kind='scatter')\n",
        "        elif(plot==2):\n",
        "            finalplot = df1[colm].iplot(kind='scatter' , mode='markers' , symbol='x' ,colorscale='paired')\n",
        "        elif(plot==3):\n",
        "            finalplot = df1[colm].iplot(kind='bar')\n",
        "        elif(plot==4):\n",
        "            finalplot = df1[colm].iplot(kind='hist')\n",
        "        elif(plot==5):\n",
        "            finalplot = df1[colm].iplot(kind='box')\n",
        "        elif(plot==6 or plot==7):\n",
        "            finalplot = print('Bubble plot and surface plot require more than one column arguments')\n",
        "        else:\n",
        "            finalplot = print('Select only between 1 to 7')\n",
        "    elif(col==2):\n",
        "        print('Enter the columns you want to plot by selecting from dataframe head')\n",
        "        x = input('First column')\n",
        "        y = input('Second column')\n",
        "        if(plot==1):\n",
        "            finalplot = df1[[x,y]].iplot(kind='scatter')\n",
        "        elif(plot==2):\n",
        "            finalplot = df1[[x,y]].iplot(kind='scatter' , mode='markers' , symbol='x' ,colorscale='paired')\n",
        "        elif(plot==3):\n",
        "            finalplot = df1[[x,y]].iplot(kind='bar')\n",
        "        elif(plot==4):\n",
        "            finalplot = df1[[x,y]].iplot(kind='hist')\n",
        "        elif(plot==5):\n",
        "            finalplot = df1[[x,y]].iplot(kind='box')\n",
        "        elif(plot==6):\n",
        "            finalplot = df1[[x,y]].iplot(kind='surface')\n",
        "        elif(plot==7):\n",
        "            size = input('Please enter the size column for bubble plot')\n",
        "            finalplot = df1.iplot(kind='bubble' , x=x,y=y,size=size)\n",
        "        else:\n",
        "            finalplot = print('Select only between 1 to 7')\n",
        "    elif(col==3):\n",
        "        print('Enter the columns you want to plot')\n",
        "        x=input('First column')\n",
        "        y=input('Second column')\n",
        "        z=input('Third column')\n",
        "        if(plot==1):\n",
        "            finalplot = df1[[x,y,z]].iplot(kind='scatter')\n",
        "        elif(plot==2):\n",
        "            finalplot = df1[[x,y,z]].iplot(kind='scatter' , mode='markers' , symbol='x' ,colorscale='paired')\n",
        "        elif(plot==3):\n",
        "            finalplot = df1[[x,y,z]].iplot(kind='bar')\n",
        "        elif(plot==4):\n",
        "            finalplot = df1[[x,y,z]].iplot(kind='hist')\n",
        "        elif(plot==5):\n",
        "            finalplot = df1[[x,y,z]].iplot(kind='box')\n",
        "        elif(plot==6):\n",
        "            finalplot = df1[[x,y,z]].iplot(kind='surface')\n",
        "        elif(plot==7):\n",
        "            size = input('Please enter the size column for bubble plot')\n",
        "            finalplot = df1.iplot(kind='bubble' , x=x,y=y,z=z,size=size )\n",
        "        else:\n",
        "            finalplot = print('Select only between 1 to 7')\n",
        "    else:\n",
        "        finalplot = print('Please enter only 1 , 2 or 3')\n",
        "    return finalplot"
      ],
      "execution_count": 0,
      "outputs": []
    },
    {
      "cell_type": "code",
      "metadata": {
        "id": "-JJYy2RYFfVd",
        "colab_type": "code",
        "colab": {}
      },
      "source": [
        "def main(cat):\n",
        "    if(cat == 1):\n",
        "        print('Select the type of plot you need to plot by writing 1 to 6')\n",
        "        print('1.Line plot')\n",
        "        print('2.Scatter plot')\n",
        "        print('3.Bar plot')\n",
        "        print('4.Histogram')\n",
        "        print('5.Box plot')\n",
        "        print('6.Surface plot')\n",
        "        plot = int(input())\n",
        "        output = plotter(plot)\n",
        "    elif(cat == 2):\n",
        "        print('Select the type of plot you need to plot by writing 1 to 7')\n",
        "        print('1.Line plot')\n",
        "        print('2.Scatter plot')\n",
        "        print('3.Bar plot')\n",
        "        print('4.Histogram')\n",
        "        print('5.Box plot')\n",
        "        print('6.Surface plot')\n",
        "        print('7.Bubble plot')\n",
        "        plot = int(input())\n",
        "        output = plotter2(plot)\n",
        "    else:\n",
        "        print('Please enter 1 or 2 and try again')  "
      ],
      "execution_count": 0,
      "outputs": []
    },
    {
      "cell_type": "code",
      "metadata": {
        "id": "ptcz7ghnFnCS",
        "colab_type": "code",
        "colab": {
          "base_uri": "https://localhost:8080/",
          "height": 119
        },
        "outputId": "a0a26efe-1ad7-40d3-a204-cb4055d5940f"
      },
      "source": [
        "print('Select the type of data you need to plot(By writing 1,2 or 3)')\n",
        "print('1.Random data with 100 rows and 5 columns')\n",
        "print('2.Customize dataframe with 5 columns and. 4 rows')\n",
        "print('3.Upload csv/json/txt file')\n",
        "data = int(input())\n",
        "df1 = createdata(data)"
      ],
      "execution_count": 20,
      "outputs": [
        {
          "output_type": "stream",
          "text": [
            "Select the type of data you need to plot(By writing 1,2 or 3)\n",
            "1.Random data with 100 rows and 5 columns\n",
            "2.Customize dataframe with 5 columns and. 4 rows\n",
            "3.Upload csv/json/txt file\n",
            "3\n",
            "Enter the file name214.agri.csv\n"
          ],
          "name": "stdout"
        }
      ]
    },
    {
      "cell_type": "code",
      "metadata": {
        "id": "_jsHJcmtFumQ",
        "colab_type": "code",
        "colab": {
          "base_uri": "https://localhost:8080/",
          "height": 496
        },
        "outputId": "097a644e-4d8e-480f-bfab-2b4c24562dba"
      },
      "source": [
        "print('Your DataFrame head is given below check the columns to plot using cufflinks')\n",
        "df1.head()"
      ],
      "execution_count": 11,
      "outputs": [
        {
          "output_type": "stream",
          "text": [
            "Your DataFrame head is given below check the columns to plot using cufflinks\n"
          ],
          "name": "stdout"
        },
        {
          "output_type": "execute_result",
          "data": {
            "text/html": [
              "<div>\n",
              "<style scoped>\n",
              "    .dataframe tbody tr th:only-of-type {\n",
              "        vertical-align: middle;\n",
              "    }\n",
              "\n",
              "    .dataframe tbody tr th {\n",
              "        vertical-align: top;\n",
              "    }\n",
              "\n",
              "    .dataframe thead th {\n",
              "        text-align: right;\n",
              "    }\n",
              "</style>\n",
              "<table border=\"1\" class=\"dataframe\">\n",
              "  <thead>\n",
              "    <tr style=\"text-align: right;\">\n",
              "      <th></th>\n",
              "      <th>code</th>\n",
              "      <th>state</th>\n",
              "      <th>category</th>\n",
              "      <th>total exports</th>\n",
              "      <th>beef</th>\n",
              "      <th>pork</th>\n",
              "      <th>poultry</th>\n",
              "      <th>dairy</th>\n",
              "      <th>fruits fresh</th>\n",
              "      <th>fruits proc</th>\n",
              "      <th>total fruits</th>\n",
              "      <th>veggies fresh</th>\n",
              "      <th>veggies proc</th>\n",
              "      <th>total veggies</th>\n",
              "      <th>corn</th>\n",
              "      <th>wheat</th>\n",
              "      <th>cotton</th>\n",
              "      <th>text</th>\n",
              "    </tr>\n",
              "  </thead>\n",
              "  <tbody>\n",
              "    <tr>\n",
              "      <th>0</th>\n",
              "      <td>AL</td>\n",
              "      <td>Alabama</td>\n",
              "      <td>state</td>\n",
              "      <td>1390.63</td>\n",
              "      <td>34.4</td>\n",
              "      <td>10.6</td>\n",
              "      <td>481.0</td>\n",
              "      <td>4.06</td>\n",
              "      <td>8.0</td>\n",
              "      <td>17.1</td>\n",
              "      <td>25.11</td>\n",
              "      <td>5.5</td>\n",
              "      <td>8.9</td>\n",
              "      <td>14.33</td>\n",
              "      <td>34.9</td>\n",
              "      <td>70.0</td>\n",
              "      <td>317.61</td>\n",
              "      <td>Alabama&lt;br&gt;Beef 34.4 Dairy 4.06&lt;br&gt;Fruits 25.1...</td>\n",
              "    </tr>\n",
              "    <tr>\n",
              "      <th>1</th>\n",
              "      <td>AK</td>\n",
              "      <td>Alaska</td>\n",
              "      <td>state</td>\n",
              "      <td>13.31</td>\n",
              "      <td>0.2</td>\n",
              "      <td>0.1</td>\n",
              "      <td>0.0</td>\n",
              "      <td>0.19</td>\n",
              "      <td>0.0</td>\n",
              "      <td>0.0</td>\n",
              "      <td>0.00</td>\n",
              "      <td>0.6</td>\n",
              "      <td>1.0</td>\n",
              "      <td>1.56</td>\n",
              "      <td>0.0</td>\n",
              "      <td>0.0</td>\n",
              "      <td>0.00</td>\n",
              "      <td>Alaska&lt;br&gt;Beef 0.2 Dairy 0.19&lt;br&gt;Fruits 0.0 Ve...</td>\n",
              "    </tr>\n",
              "    <tr>\n",
              "      <th>2</th>\n",
              "      <td>AZ</td>\n",
              "      <td>Arizona</td>\n",
              "      <td>state</td>\n",
              "      <td>1463.17</td>\n",
              "      <td>71.3</td>\n",
              "      <td>17.9</td>\n",
              "      <td>0.0</td>\n",
              "      <td>105.48</td>\n",
              "      <td>19.3</td>\n",
              "      <td>41.0</td>\n",
              "      <td>60.27</td>\n",
              "      <td>147.5</td>\n",
              "      <td>239.4</td>\n",
              "      <td>386.91</td>\n",
              "      <td>7.3</td>\n",
              "      <td>48.7</td>\n",
              "      <td>423.95</td>\n",
              "      <td>Arizona&lt;br&gt;Beef 71.3 Dairy 105.48&lt;br&gt;Fruits 60...</td>\n",
              "    </tr>\n",
              "    <tr>\n",
              "      <th>3</th>\n",
              "      <td>AR</td>\n",
              "      <td>Arkansas</td>\n",
              "      <td>state</td>\n",
              "      <td>3586.02</td>\n",
              "      <td>53.2</td>\n",
              "      <td>29.4</td>\n",
              "      <td>562.9</td>\n",
              "      <td>3.53</td>\n",
              "      <td>2.2</td>\n",
              "      <td>4.7</td>\n",
              "      <td>6.88</td>\n",
              "      <td>4.4</td>\n",
              "      <td>7.1</td>\n",
              "      <td>11.45</td>\n",
              "      <td>69.5</td>\n",
              "      <td>114.5</td>\n",
              "      <td>665.44</td>\n",
              "      <td>Arkansas&lt;br&gt;Beef 53.2 Dairy 3.53&lt;br&gt;Fruits 6.8...</td>\n",
              "    </tr>\n",
              "    <tr>\n",
              "      <th>4</th>\n",
              "      <td>CA</td>\n",
              "      <td>California</td>\n",
              "      <td>state</td>\n",
              "      <td>16472.88</td>\n",
              "      <td>228.7</td>\n",
              "      <td>11.1</td>\n",
              "      <td>225.4</td>\n",
              "      <td>929.95</td>\n",
              "      <td>2791.8</td>\n",
              "      <td>5944.6</td>\n",
              "      <td>8736.40</td>\n",
              "      <td>803.2</td>\n",
              "      <td>1303.5</td>\n",
              "      <td>2106.79</td>\n",
              "      <td>34.6</td>\n",
              "      <td>249.3</td>\n",
              "      <td>1064.95</td>\n",
              "      <td>California&lt;br&gt;Beef 228.7 Dairy 929.95&lt;br&gt;Frui...</td>\n",
              "    </tr>\n",
              "  </tbody>\n",
              "</table>\n",
              "</div>"
            ],
            "text/plain": [
              "  code        state  ...   cotton                                               text\n",
              "0   AL      Alabama  ...   317.61  Alabama<br>Beef 34.4 Dairy 4.06<br>Fruits 25.1...\n",
              "1   AK       Alaska  ...     0.00  Alaska<br>Beef 0.2 Dairy 0.19<br>Fruits 0.0 Ve...\n",
              "2   AZ      Arizona  ...   423.95  Arizona<br>Beef 71.3 Dairy 105.48<br>Fruits 60...\n",
              "3   AR     Arkansas  ...   665.44  Arkansas<br>Beef 53.2 Dairy 3.53<br>Fruits 6.8...\n",
              "4   CA   California  ...  1064.95   California<br>Beef 228.7 Dairy 929.95<br>Frui...\n",
              "\n",
              "[5 rows x 18 columns]"
            ]
          },
          "metadata": {
            "tags": []
          },
          "execution_count": 11
        }
      ]
    },
    {
      "cell_type": "code",
      "metadata": {
        "id": "Gtd5wLAFFycV",
        "colab_type": "code",
        "colab": {
          "base_uri": "https://localhost:8080/",
          "height": 51
        },
        "outputId": "e6f04c65-a47d-4224-cc68-bc9a4a72ef3d"
      },
      "source": [
        "print('What kind of plot you need , the complete data plot or columns plot')\n",
        "cat = input('Press 1 for plotting all columns or press 2 for specifying columns to plot')\n",
        "cat = int(cat)"
      ],
      "execution_count": 21,
      "outputs": [
        {
          "output_type": "stream",
          "text": [
            "What kind of plot you need , the complete data plot or columns plot\n",
            "Press 1 for plotting all columns or press 2 for specifying columns to plot1\n"
          ],
          "name": "stdout"
        }
      ]
    },
    {
      "cell_type": "code",
      "metadata": {
        "id": "Osxvggu_F1yt",
        "colab_type": "code",
        "colab": {
          "base_uri": "https://localhost:8080/",
          "height": 678
        },
        "outputId": "cb9e0c5b-868a-4280-fb57-557bdcb469f1"
      },
      "source": [
        "main(cat)"
      ],
      "execution_count": 22,
      "outputs": [
        {
          "output_type": "stream",
          "text": [
            "Select the type of plot you need to plot by writing 1 to 6\n",
            "1.Line plot\n",
            "2.Scatter plot\n",
            "3.Bar plot\n",
            "4.Histogram\n",
            "5.Box plot\n",
            "6.Surface plot\n",
            "2\n"
          ],
          "name": "stdout"
        },
        {
          "output_type": "display_data",
          "data": {
            "text/html": [
              "<div>\n",
              "        \n",
              "        \n",
              "            <div id=\"d9f23c99-f176-4cff-9d25-ff025c985bde\" class=\"plotly-graph-div\" style=\"height:525px; width:100%;\"></div>\n",
              "            <script type=\"text/javascript\">\n",
              "                require([\"plotly\"], function(Plotly) {\n",
              "                    window.PLOTLYENV=window.PLOTLYENV || {};\n",
              "                    window.PLOTLYENV.BASE_URL='https://plot.ly';\n",
              "                    \n",
              "                if (document.getElementById(\"d9f23c99-f176-4cff-9d25-ff025c985bde\")) {\n",
              "                    Plotly.newPlot(\n",
              "                        'd9f23c99-f176-4cff-9d25-ff025c985bde',\n",
              "                        [{\"line\": {\"color\": \"rgba(166, 206, 227, 1.0)\", \"dash\": \"solid\", \"shape\": \"linear\", \"width\": 1.3}, \"marker\": {\"size\": 12, \"symbol\": \"x\"}, \"mode\": \"markers\", \"name\": \"code\", \"text\": \"\", \"type\": \"scatter\", \"x\": [0, 1, 2, 3, 4, 5, 6, 7, 8, 9, 10, 11, 12, 13, 14, 15, 16, 17, 18, 19, 20, 21, 22, 23, 24, 25, 26, 27, 28, 29, 30, 31, 32, 33, 34, 35, 36, 37, 38, 39, 40, 41, 42, 43, 44, 45, 46, 47, 48, 49], \"y\": [\"AL\", \"AK\", \"AZ\", \"AR\", \"CA\", \"CO\", \"CT\", \"DE\", \"FL\", \"GA\", \"HI\", \"ID\", \"IL\", \"IN\", \"IA\", \"KS\", \"KY\", \"LA\", \"ME\", \"MD\", \"MA\", \"MI\", \"MN\", \"MS\", \"MO\", \"MT\", \"NE\", \"NV\", \"NH\", \"NJ\", \"NM\", \"NY\", \"NC\", \"ND\", \"OH\", \"OK\", \"OR\", \"PA\", \"RI\", \"SC\", \"SD\", \"TN\", \"TX\", \"UT\", \"VT\", \"VA\", \"WA\", \"WV\", \"WI\", \"WY\"]}, {\"line\": {\"color\": \"rgba(31, 120, 180, 1.0)\", \"dash\": \"solid\", \"shape\": \"linear\", \"width\": 1.3}, \"marker\": {\"size\": 12, \"symbol\": \"x\"}, \"mode\": \"markers\", \"name\": \"state\", \"text\": \"\", \"type\": \"scatter\", \"x\": [0, 1, 2, 3, 4, 5, 6, 7, 8, 9, 10, 11, 12, 13, 14, 15, 16, 17, 18, 19, 20, 21, 22, 23, 24, 25, 26, 27, 28, 29, 30, 31, 32, 33, 34, 35, 36, 37, 38, 39, 40, 41, 42, 43, 44, 45, 46, 47, 48, 49], \"y\": [\"Alabama\", \"Alaska\", \"Arizona\", \"Arkansas\", \" California\", \"Colorado\", \"Connecticut\", \"Delaware\", \"Florida\", \"Georgia\", \"Hawaii\", \"Idaho\", \"Illinois\", \"Indiana\", \"Iowa\", \"Kansas\", \"Kentucky\", \"Louisiana\", \"Maine\", \"Maryland\", \"Massachusetts\", \"Michigan\", \"Minnesota\", \"Mississippi\", \"Missouri\", \"Montana\", \"Nebraska\", \"Nevada\", \"New Hampshire\", \"New Jersey\", \"New Mexico\", \"New York\", \"North Carolina\", \"North Dakota\", \"Ohio\", \"Oklahoma\", \"Oregon\", \"Pennsylvania\", \"Rhode Island\", \"South Carolina\", \"South Dakota\", \"Tennessee\", \"Texas\", \"Utah\", \"Vermont\", \"Virginia\", \"Washington\", \"West Virginia\", \"Wisconsin\", \"Wyoming\"]}, {\"line\": {\"color\": \"rgba(178, 223, 138, 1.0)\", \"dash\": \"solid\", \"shape\": \"linear\", \"width\": 1.3}, \"marker\": {\"size\": 12, \"symbol\": \"x\"}, \"mode\": \"markers\", \"name\": \"category\", \"text\": \"\", \"type\": \"scatter\", \"x\": [0, 1, 2, 3, 4, 5, 6, 7, 8, 9, 10, 11, 12, 13, 14, 15, 16, 17, 18, 19, 20, 21, 22, 23, 24, 25, 26, 27, 28, 29, 30, 31, 32, 33, 34, 35, 36, 37, 38, 39, 40, 41, 42, 43, 44, 45, 46, 47, 48, 49], \"y\": [\"state\", \"state\", \"state\", \"state\", \" state\", \"state\", \"state\", \"state\", \"state\", \"state\", \"state\", \"state\", \"state\", \"state\", \"state\", \"state\", \"state\", \"state\", \"state\", \"state\", \"state\", \"state\", \"state\", \"state\", \"state\", \"state\", \"state\", \"state\", \"state\", \"state\", \"state\", \"state\", \"state\", \"state\", \"state\", \"state\", \"state\", \"state\", \"state\", \"state\", \"state\", \"state\", \"state\", \"state\", \"state\", \"state\", \"state\", \"state\", \"state\", \"state\"]}, {\"line\": {\"color\": \"rgba(51, 160, 44, 1.0)\", \"dash\": \"solid\", \"shape\": \"linear\", \"width\": 1.3}, \"marker\": {\"size\": 12, \"symbol\": \"x\"}, \"mode\": \"markers\", \"name\": \"total exports\", \"text\": \"\", \"type\": \"scatter\", \"x\": [0, 1, 2, 3, 4, 5, 6, 7, 8, 9, 10, 11, 12, 13, 14, 15, 16, 17, 18, 19, 20, 21, 22, 23, 24, 25, 26, 27, 28, 29, 30, 31, 32, 33, 34, 35, 36, 37, 38, 39, 40, 41, 42, 43, 44, 45, 46, 47, 48, 49], \"y\": [1390.63, 13.31, 1463.17, 3586.02, 16472.88, 1851.33, 259.62, 282.19, 3764.09, 2860.84, 401.84, 2078.89, 8709.48, 5050.23, 11273.76, 4589.01, 1889.15, 1914.23, 278.37, 692.75, 248.65, 3164.16, 7192.33, 2170.8, 3933.42, 1718.0, 7114.13, 139.89, 73.06, 500.4, 751.58, 1488.9, 3806.05, 3761.96, 3979.79, 1646.41, 1794.57, 1969.87, 31.59, 929.93, 3770.19, 1535.13, 6648.22, 453.39, 180.14, 1146.48, 3894.81, 138.89, 3090.23, 349.69]}, {\"line\": {\"color\": \"rgba(251, 154, 153, 1.0)\", \"dash\": \"solid\", \"shape\": \"linear\", \"width\": 1.3}, \"marker\": {\"size\": 12, \"symbol\": \"x\"}, \"mode\": \"markers\", \"name\": \"beef\", \"text\": \"\", \"type\": \"scatter\", \"x\": [0, 1, 2, 3, 4, 5, 6, 7, 8, 9, 10, 11, 12, 13, 14, 15, 16, 17, 18, 19, 20, 21, 22, 23, 24, 25, 26, 27, 28, 29, 30, 31, 32, 33, 34, 35, 36, 37, 38, 39, 40, 41, 42, 43, 44, 45, 46, 47, 48, 49], \"y\": [34.4, 0.2, 71.3, 53.2, 228.7, 261.4, 1.1, 0.4, 42.6, 31.0, 4.0, 119.8, 53.7, 21.9, 289.8, 659.3, 54.8, 19.8, 1.4, 5.6, 0.6, 37.7, 112.3, 12.8, 137.2, 105.0, 762.2, 21.8, 0.6, 0.8, 117.2, 22.2, 24.8, 78.5, 36.2, 337.6, 58.8, 50.9, 0.1, 15.2, 193.5, 51.1, 961.0, 27.9, 6.2, 39.5, 59.2, 12.0, 107.3, 75.1]}, {\"line\": {\"color\": \"rgba(227, 26, 28, 1.0)\", \"dash\": \"solid\", \"shape\": \"linear\", \"width\": 1.3}, \"marker\": {\"size\": 12, \"symbol\": \"x\"}, \"mode\": \"markers\", \"name\": \"pork\", \"text\": \"\", \"type\": \"scatter\", \"x\": [0, 1, 2, 3, 4, 5, 6, 7, 8, 9, 10, 11, 12, 13, 14, 15, 16, 17, 18, 19, 20, 21, 22, 23, 24, 25, 26, 27, 28, 29, 30, 31, 32, 33, 34, 35, 36, 37, 38, 39, 40, 41, 42, 43, 44, 45, 46, 47, 48, 49], \"y\": [10.6, 0.1, 17.9, 29.4, 11.1, 66.0, 0.1, 0.6, 0.9, 18.9, 0.7, 0.0, 394.0, 341.9, 1895.6, 179.4, 34.2, 0.8, 0.5, 3.1, 0.5, 118.1, 740.4, 30.4, 277.3, 16.7, 262.5, 0.2, 0.2, 0.4, 0.1, 5.8, 702.8, 16.1, 199.1, 265.3, 1.4, 91.3, 0.1, 10.9, 160.2, 17.6, 42.7, 59.0, 0.2, 16.9, 0.0, 0.3, 38.6, 33.2]}, {\"line\": {\"color\": \"rgba(253, 191, 111, 1.0)\", \"dash\": \"solid\", \"shape\": \"linear\", \"width\": 1.3}, \"marker\": {\"size\": 12, \"symbol\": \"x\"}, \"mode\": \"markers\", \"name\": \"poultry\", \"text\": \"\", \"type\": \"scatter\", \"x\": [0, 1, 2, 3, 4, 5, 6, 7, 8, 9, 10, 11, 12, 13, 14, 15, 16, 17, 18, 19, 20, 21, 22, 23, 24, 25, 26, 27, 28, 29, 30, 31, 32, 33, 34, 35, 36, 37, 38, 39, 40, 41, 42, 43, 44, 45, 46, 47, 48, 49], \"y\": [481.0, 0.0, 0.0, 562.9, 225.4, 14.0, 6.9, 114.7, 56.9, 630.4, 1.3, 2.4, 14.0, 165.6, 155.6, 6.4, 151.3, 77.2, 10.4, 127.0, 0.6, 32.6, 189.2, 370.8, 196.1, 1.7, 31.4, 0.0, 0.8, 4.6, 0.3, 17.7, 598.4, 0.5, 129.9, 131.1, 14.2, 169.8, 0.2, 186.5, 29.3, 82.4, 339.2, 23.1, 0.9, 164.7, 35.6, 45.4, 34.5, 0.1]}, {\"line\": {\"color\": \"rgba(255, 127, 0, 1.0)\", \"dash\": \"solid\", \"shape\": \"linear\", \"width\": 1.3}, \"marker\": {\"size\": 12, \"symbol\": \"x\"}, \"mode\": \"markers\", \"name\": \"dairy\", \"text\": \"\", \"type\": \"scatter\", \"x\": [0, 1, 2, 3, 4, 5, 6, 7, 8, 9, 10, 11, 12, 13, 14, 15, 16, 17, 18, 19, 20, 21, 22, 23, 24, 25, 26, 27, 28, 29, 30, 31, 32, 33, 34, 35, 36, 37, 38, 39, 40, 41, 42, 43, 44, 45, 46, 47, 48, 49], \"y\": [4.06, 0.19, 105.48, 3.53, 929.95, 71.94, 9.49, 2.3, 66.31, 38.38, 1.16, 294.6, 45.82, 89.7, 107.0, 65.45, 28.27, 6.02, 16.18, 24.81, 5.81, 214.82, 218.05, 5.45, 34.26, 6.82, 30.07, 16.57, 7.46, 3.37, 191.01, 331.8, 24.9, 8.14, 134.57, 24.35, 63.66, 280.87, 0.52, 7.62, 46.77, 21.18, 240.55, 48.6, 65.98, 47.85, 154.18, 3.9, 633.6, 2.89]}, {\"line\": {\"color\": \"rgba(202, 178, 214, 1.0)\", \"dash\": \"solid\", \"shape\": \"linear\", \"width\": 1.3}, \"marker\": {\"size\": 12, \"symbol\": \"x\"}, \"mode\": \"markers\", \"name\": \"fruits fresh\", \"text\": \"\", \"type\": \"scatter\", \"x\": [0, 1, 2, 3, 4, 5, 6, 7, 8, 9, 10, 11, 12, 13, 14, 15, 16, 17, 18, 19, 20, 21, 22, 23, 24, 25, 26, 27, 28, 29, 30, 31, 32, 33, 34, 35, 36, 37, 38, 39, 40, 41, 42, 43, 44, 45, 46, 47, 48, 49], \"y\": [8.0, 0.0, 19.3, 2.2, 2791.8, 5.7, 4.2, 0.5, 438.2, 74.6, 17.7, 6.9, 4.0, 4.1, 1.0, 1.0, 2.1, 5.7, 16.6, 4.1, 25.8, 82.3, 2.5, 5.4, 4.2, 1.1, 0.7, 0.4, 2.6, 35.0, 32.6, 64.7, 23.8, 0.1, 8.7, 3.0, 100.7, 28.6, 0.9, 17.1, 0.3, 2.0, 31.9, 3.9, 2.6, 11.7, 555.6, 3.7, 42.8, 0.1]}, {\"line\": {\"color\": \"rgba(106, 61, 154, 1.0)\", \"dash\": \"solid\", \"shape\": \"linear\", \"width\": 1.3}, \"marker\": {\"size\": 12, \"symbol\": \"x\"}, \"mode\": \"markers\", \"name\": \"fruits proc\", \"text\": \"\", \"type\": \"scatter\", \"x\": [0, 1, 2, 3, 4, 5, 6, 7, 8, 9, 10, 11, 12, 13, 14, 15, 16, 17, 18, 19, 20, 21, 22, 23, 24, 25, 26, 27, 28, 29, 30, 31, 32, 33, 34, 35, 36, 37, 38, 39, 40, 41, 42, 43, 44, 45, 46, 47, 48, 49], \"y\": [17.1, 0.0, 41.0, 4.7, 5944.6, 12.2, 8.9, 1.0, 933.1, 158.9, 37.8, 14.7, 8.5, 8.8, 2.2, 2.1, 4.5, 12.1, 35.4, 8.8, 55.0, 175.3, 5.4, 11.6, 9.0, 2.2, 1.5, 0.8, 5.4, 74.5, 69.3, 137.8, 50.7, 0.2, 18.5, 6.3, 214.4, 60.9, 1.9, 36.4, 0.5, 4.2, 68.0, 8.4, 5.4, 24.8, 1183.0, 7.9, 91.0, 0.1]}, {\"line\": {\"color\": \"rgba(255, 255, 153, 1.0)\", \"dash\": \"solid\", \"shape\": \"linear\", \"width\": 1.3}, \"marker\": {\"size\": 12, \"symbol\": \"x\"}, \"mode\": \"markers\", \"name\": \"total fruits\", \"text\": \"\", \"type\": \"scatter\", \"x\": [0, 1, 2, 3, 4, 5, 6, 7, 8, 9, 10, 11, 12, 13, 14, 15, 16, 17, 18, 19, 20, 21, 22, 23, 24, 25, 26, 27, 28, 29, 30, 31, 32, 33, 34, 35, 36, 37, 38, 39, 40, 41, 42, 43, 44, 45, 46, 47, 48, 49], \"y\": [25.11, 0.0, 60.27, 6.88, 8736.4, 17.99, 13.1, 1.53, 1371.36, 233.51, 55.51, 21.64, 12.53, 12.98, 3.24, 3.11, 6.6, 17.83, 52.01, 12.9, 80.83, 257.69, 7.91, 17.04, 13.18, 3.3, 2.16, 1.19, 7.98, 109.45, 101.9, 202.56, 74.47, 0.25, 27.21, 9.24, 315.04, 89.48, 2.83, 53.45, 0.8, 6.23, 99.9, 12.34, 8.01, 36.48, 1738.57, 11.54, 133.8, 0.17]}, {\"line\": {\"color\": \"rgba(177, 89, 40, 1.0)\", \"dash\": \"solid\", \"shape\": \"linear\", \"width\": 1.3}, \"marker\": {\"size\": 12, \"symbol\": \"x\"}, \"mode\": \"markers\", \"name\": \"veggies fresh\", \"text\": \"\", \"type\": \"scatter\", \"x\": [0, 1, 2, 3, 4, 5, 6, 7, 8, 9, 10, 11, 12, 13, 14, 15, 16, 17, 18, 19, 20, 21, 22, 23, 24, 25, 26, 27, 28, 29, 30, 31, 32, 33, 34, 35, 36, 37, 38, 39, 40, 41, 42, 43, 44, 45, 46, 47, 48, 49], \"y\": [5.5, 0.6, 147.5, 4.4, 803.2, 45.1, 4.3, 7.6, 171.9, 59.0, 9.5, 121.7, 15.2, 14.4, 2.7, 3.6, 0.0, 6.6, 24.0, 7.8, 8.1, 72.4, 45.9, 10.6, 6.8, 17.3, 20.4, 10.6, 1.7, 21.6, 16.7, 54.7, 57.4, 49.9, 20.4, 3.4, 48.2, 14.6, 1.2, 16.3, 1.5, 9.4, 43.9, 2.5, 1.5, 10.4, 138.7, 0.0, 56.8, 3.9]}, {\"line\": {\"color\": \"rgba(177, 89, 40, 0.8999999999999999)\", \"dash\": \"solid\", \"shape\": \"linear\", \"width\": 1.3}, \"marker\": {\"size\": 12, \"symbol\": \"x\"}, \"mode\": \"markers\", \"name\": \"veggies proc\", \"text\": \"\", \"type\": \"scatter\", \"x\": [0, 1, 2, 3, 4, 5, 6, 7, 8, 9, 10, 11, 12, 13, 14, 15, 16, 17, 18, 19, 20, 21, 22, 23, 24, 25, 26, 27, 28, 29, 30, 31, 32, 33, 34, 35, 36, 37, 38, 39, 40, 41, 42, 43, 44, 45, 46, 47, 48, 49], \"y\": [8.9, 1.0, 239.4, 7.1, 1303.5, 73.2, 6.9, 12.4, 279.0, 95.8, 15.4, 197.5, 24.7, 23.4, 4.4, 5.8, 0.0, 10.7, 38.9, 12.6, 13.1, 117.5, 74.5, 17.2, 11.1, 28.0, 33.1, 17.3, 2.8, 35.0, 27.1, 88.7, 93.1, 80.9, 33.1, 5.5, 78.3, 23.7, 1.9, 26.4, 2.5, 15.3, 71.3, 4.1, 2.5, 16.9, 225.1, 0.0, 92.2, 6.3]}, {\"line\": {\"color\": \"rgba(166, 206, 227, 0.8999999999999999)\", \"dash\": \"solid\", \"shape\": \"linear\", \"width\": 1.3}, \"marker\": {\"size\": 12, \"symbol\": \"x\"}, \"mode\": \"markers\", \"name\": \"total veggies\", \"text\": \"\", \"type\": \"scatter\", \"x\": [0, 1, 2, 3, 4, 5, 6, 7, 8, 9, 10, 11, 12, 13, 14, 15, 16, 17, 18, 19, 20, 21, 22, 23, 24, 25, 26, 27, 28, 29, 30, 31, 32, 33, 34, 35, 36, 37, 38, 39, 40, 41, 42, 43, 44, 45, 46, 47, 48, 49], \"y\": [14.33, 1.56, 386.91, 11.45, 2106.79, 118.27, 11.16, 20.03, 450.86, 154.77, 24.83, 319.19, 39.95, 37.89, 7.1, 9.32, 0.0, 17.25, 62.9, 20.43, 21.13, 189.96, 120.37, 27.87, 17.9, 45.27, 53.5, 27.93, 4.5, 56.54, 43.88, 143.37, 150.45, 130.79, 53.53, 8.9, 126.5, 38.26, 3.02, 42.66, 4.06, 24.67, 115.23, 6.6, 4.05, 27.25, 363.79, 0.0, 148.99, 10.23]}, {\"line\": {\"color\": \"rgba(31, 120, 180, 0.8999999999999999)\", \"dash\": \"solid\", \"shape\": \"linear\", \"width\": 1.3}, \"marker\": {\"size\": 12, \"symbol\": \"x\"}, \"mode\": \"markers\", \"name\": \"corn\", \"text\": \"\", \"type\": \"scatter\", \"x\": [0, 1, 2, 3, 4, 5, 6, 7, 8, 9, 10, 11, 12, 13, 14, 15, 16, 17, 18, 19, 20, 21, 22, 23, 24, 25, 26, 27, 28, 29, 30, 31, 32, 33, 34, 35, 36, 37, 38, 39, 40, 41, 42, 43, 44, 45, 46, 47, 48, 49], \"y\": [34.9, 0.0, 7.3, 69.5, 34.6, 183.2, 0.0, 26.9, 3.5, 57.8, 0.0, 24.0, 2228.5, 1123.2, 2529.8, 457.3, 179.1, 91.4, 0.0, 54.1, 0.0, 381.5, 1264.3, 110.0, 428.8, 5.4, 1735.9, 0.0, 0.0, 10.1, 11.2, 106.1, 92.2, 236.1, 535.1, 27.5, 11.7, 112.1, 0.0, 32.1, 643.6, 88.8, 167.2, 5.3, 0.0, 39.5, 29.5, 3.5, 460.5, 9.0]}, {\"line\": {\"color\": \"rgba(178, 223, 138, 0.8999999999999999)\", \"dash\": \"solid\", \"shape\": \"linear\", \"width\": 1.3}, \"marker\": {\"size\": 12, \"symbol\": \"x\"}, \"mode\": \"markers\", \"name\": \"wheat\", \"text\": \"\", \"type\": \"scatter\", \"x\": [0, 1, 2, 3, 4, 5, 6, 7, 8, 9, 10, 11, 12, 13, 14, 15, 16, 17, 18, 19, 20, 21, 22, 23, 24, 25, 26, 27, 28, 29, 30, 31, 32, 33, 34, 35, 36, 37, 38, 39, 40, 41, 42, 43, 44, 45, 46, 47, 48, 49], \"y\": [70.0, 0.0, 48.7, 114.5, 249.3, 400.5, 0.0, 22.9, 1.8, 65.4, 0.0, 568.2, 223.8, 114.0, 3.1, 1426.5, 149.3, 78.7, 0.0, 55.8, 0.0, 247.0, 538.1, 102.2, 161.7, 1198.1, 292.3, 5.4, 0.0, 6.7, 13.9, 29.9, 200.3, 1664.5, 207.4, 324.8, 320.3, 41.0, 0.0, 55.3, 704.5, 100.0, 309.7, 42.8, 0.0, 77.5, 786.3, 1.6, 96.7, 20.7]}, {\"line\": {\"color\": \"rgba(51, 160, 44, 0.8999999999999999)\", \"dash\": \"solid\", \"shape\": \"linear\", \"width\": 1.3}, \"marker\": {\"size\": 12, \"symbol\": \"x\"}, \"mode\": \"markers\", \"name\": \"cotton\", \"text\": \"\", \"type\": \"scatter\", \"x\": [0, 1, 2, 3, 4, 5, 6, 7, 8, 9, 10, 11, 12, 13, 14, 15, 16, 17, 18, 19, 20, 21, 22, 23, 24, 25, 26, 27, 28, 29, 30, 31, 32, 33, 34, 35, 36, 37, 38, 39, 40, 41, 42, 43, 44, 45, 46, 47, 48, 49], \"y\": [317.61, 0.0, 423.95, 665.44, 1064.95, 0.0, 0.0, 0.0, 78.24, 1154.07, 0.0, 0.0, 0.0, 0.0, 0.0, 43.98, 0.0, 280.42, 0.0, 0.0, 0.0, 0.0, 0.0, 494.75, 345.29, 0.0, 0.0, 0.0, 0.0, 0.0, 72.62, 0.0, 470.86, 0.0, 0.0, 110.54, 0.0, 0.0, 0.0, 206.1, 0.0, 363.83, 2308.76, 0.0, 0.0, 64.84, 0.0, 0.0, 0.0, 0.0]}, {\"line\": {\"color\": \"rgba(251, 154, 153, 0.8999999999999999)\", \"dash\": \"solid\", \"shape\": \"linear\", \"width\": 1.3}, \"marker\": {\"size\": 12, \"symbol\": \"x\"}, \"mode\": \"markers\", \"name\": \"text\", \"text\": \"\", \"type\": \"scatter\", \"x\": [0, 1, 2, 3, 4, 5, 6, 7, 8, 9, 10, 11, 12, 13, 14, 15, 16, 17, 18, 19, 20, 21, 22, 23, 24, 25, 26, 27, 28, 29, 30, 31, 32, 33, 34, 35, 36, 37, 38, 39, 40, 41, 42, 43, 44, 45, 46, 47, 48, 49], \"y\": [\"Alabama<br>Beef 34.4 Dairy 4.06<br>Fruits 25.11 Veggies 14.33<br>Wheat 70.0 Corn 34.9\", \"Alaska<br>Beef 0.2 Dairy 0.19<br>Fruits 0.0 Veggies 1.56<br>Wheat 0.0 Corn 0.0\", \"Arizona<br>Beef 71.3 Dairy 105.48<br>Fruits 60.27 Veggies 386.91<br>Wheat 48.7 Corn 7.3\", \"Arkansas<br>Beef 53.2 Dairy 3.53<br>Fruits 6.88 Veggies 11.45<br>Wheat 114.5 Corn 69.5\", \" California<br>Beef 228.7 Dairy 929.95<br>Fruits 8736.4 Veggies 2106.79<br>Wheat 249.3 Corn 34.6\", \"Colorado<br>Beef 261.4 Dairy 71.94<br>Fruits 17.99 Veggies 118.27<br>Wheat 400.5 Corn 183.2\", \"Connecticut<br>Beef 1.1 Dairy 9.49<br>Fruits 13.1 Veggies 11.16<br>Wheat 0.0 Corn 0.0\", \"Delaware<br>Beef 0.4 Dairy 2.3<br>Fruits 1.53 Veggies 20.03<br>Wheat 22.9 Corn 26.9\", \"Florida<br>Beef 42.6 Dairy 66.31<br>Fruits 1371.36 Veggies 450.86<br>Wheat 1.8 Corn 3.5\", \"Georgia<br>Beef 31.0 Dairy 38.38<br>Fruits 233.51 Veggies 154.77<br>Wheat 65.4 Corn 57.8\", \"Hawaii<br>Beef 4.0 Dairy 1.16<br>Fruits 55.51 Veggies 24.83<br>Wheat 0.0 Corn 0.0\", \"Idaho<br>Beef 119.8 Dairy 294.6<br>Fruits 21.64 Veggies 319.19<br>Wheat 568.2 Corn 24.0\", \"Illinois<br>Beef 53.7 Dairy 45.82<br>Fruits 12.53 Veggies 39.95<br>Wheat 223.8 Corn 2228.5\", \"Indiana<br>Beef 21.9 Dairy 89.7<br>Fruits 12.98 Veggies 37.89<br>Wheat 114.0 Corn 1123.2\", \"Iowa<br>Beef 289.8 Dairy 107.0<br>Fruits 3.24 Veggies 7.1<br>Wheat 3.1 Corn 2529.8\", \"Kansas<br>Beef 659.3 Dairy 65.45<br>Fruits 3.11 Veggies 9.32<br>Wheat 1426.5 Corn 457.3\", \"Kentucky<br>Beef 54.8 Dairy 28.27<br>Fruits 6.6 Veggies 0.0<br>Wheat 149.3 Corn 179.1\", \"Louisiana<br>Beef 19.8 Dairy 6.02<br>Fruits 17.83 Veggies 17.25<br>Wheat 78.7 Corn 91.4\", \"Maine<br>Beef 1.4 Dairy 16.18<br>Fruits 52.01 Veggies 62.9<br>Wheat 0.0 Corn 0.0\", \"Maryland<br>Beef 5.6 Dairy 24.81<br>Fruits 12.9 Veggies 20.43<br>Wheat 55.8 Corn 54.1\", \"Massachusetts<br>Beef 0.6 Dairy 5.81<br>Fruits 80.83 Veggies 21.13<br>Wheat 0.0 Corn 0.0\", \"Michigan<br>Beef 37.7 Dairy 214.82<br>Fruits 257.69 Veggies 189.96<br>Wheat 247.0 Corn 381.5\", \"Minnesota<br>Beef 112.3 Dairy 218.05<br>Fruits 7.91 Veggies 120.37<br>Wheat 538.1 Corn 1264.3\", \"Mississippi<br>Beef 12.8 Dairy 5.45<br>Fruits 17.04 Veggies 27.87<br>Wheat 102.2 Corn 110.0\", \"Missouri<br>Beef 137.2 Dairy 34.26<br>Fruits 13.18 Veggies 17.9<br>Wheat 161.7 Corn 428.8\", \"Montana<br>Beef 105.0 Dairy 6.82<br>Fruits 3.3 Veggies 45.27<br>Wheat 1198.1 Corn 5.4\", \"Nebraska<br>Beef 762.2 Dairy 30.07<br>Fruits 2.16 Veggies 53.5<br>Wheat 292.3 Corn 1735.9\", \"Nevada<br>Beef 21.8 Dairy 16.57<br>Fruits 1.19 Veggies 27.93<br>Wheat 5.4 Corn 0.0\", \"New Hampshire<br>Beef 0.6 Dairy 7.46<br>Fruits 7.98 Veggies 4.5<br>Wheat 0.0 Corn 0.0\", \"New Jersey<br>Beef 0.8 Dairy 3.37<br>Fruits 109.45 Veggies 56.54<br>Wheat 6.7 Corn 10.1\", \"New Mexico<br>Beef 117.2 Dairy 191.01<br>Fruits 101.9 Veggies 43.88<br>Wheat 13.9 Corn 11.2\", \"New York<br>Beef 22.2 Dairy 331.8<br>Fruits 202.56 Veggies 143.37<br>Wheat 29.9 Corn 106.1\", \"North Carolina<br>Beef 24.8 Dairy 24.9<br>Fruits 74.47 Veggies 150.45<br>Wheat 200.3 Corn 92.2\", \"North Dakota<br>Beef 78.5 Dairy 8.14<br>Fruits 0.25 Veggies 130.79<br>Wheat 1664.5 Corn 236.1\", \"Ohio<br>Beef 36.2 Dairy 134.57<br>Fruits 27.21 Veggies 53.53<br>Wheat 207.4 Corn 535.1\", \"Oklahoma<br>Beef 337.6 Dairy 24.35<br>Fruits 9.24 Veggies 8.9<br>Wheat 324.8 Corn 27.5\", \"Oregon<br>Beef 58.8 Dairy 63.66<br>Fruits 315.04 Veggies 126.5<br>Wheat 320.3 Corn 11.7\", \"Pennsylvania<br>Beef 50.9 Dairy 280.87<br>Fruits 89.48 Veggies 38.26<br>Wheat 41.0 Corn 112.1\", \"Rhode Island<br>Beef 0.1 Dairy 0.52<br>Fruits 2.83 Veggies 3.02<br>Wheat 0.0 Corn 0.0\", \"South Carolina<br>Beef 15.2 Dairy 7.62<br>Fruits 53.45 Veggies 42.66<br>Wheat 55.3 Corn 32.1\", \"South Dakota<br>Beef 193.5 Dairy 46.77<br>Fruits 0.8 Veggies 4.06<br>Wheat 704.5 Corn 643.6\", \"Tennessee<br>Beef 51.1 Dairy 21.18<br>Fruits 6.23 Veggies 24.67<br>Wheat 100.0 Corn 88.8\", \"Texas<br>Beef 961.0 Dairy 240.55<br>Fruits 99.9 Veggies 115.23<br>Wheat 309.7 Corn 167.2\", \"Utah<br>Beef 27.9 Dairy 48.6<br>Fruits 12.34 Veggies 6.6<br>Wheat 42.8 Corn 5.3\", \"Vermont<br>Beef 6.2 Dairy 65.98<br>Fruits 8.01 Veggies 4.05<br>Wheat 0.0 Corn 0.0\", \"Virginia<br>Beef 39.5 Dairy 47.85<br>Fruits 36.48 Veggies 27.25<br>Wheat 77.5 Corn 39.5\", \"Washington<br>Beef 59.2 Dairy 154.18<br>Fruits 1738.57 Veggies 363.79<br>Wheat 786.3 Corn 29.5\", \"West Virginia<br>Beef 12.0 Dairy 3.9<br>Fruits 11.54 Veggies 0.0<br>Wheat 1.6 Corn 3.5\", \"Wisconsin<br>Beef 107.3 Dairy 633.6<br>Fruits 133.8 Veggies 148.99<br>Wheat 96.7 Corn 460.5\", \"Wyoming<br>Beef 75.1 Dairy 2.89<br>Fruits 0.17 Veggies 10.23<br>Wheat 20.7 Corn 9.0\"]}],\n",
              "                        {\"legend\": {\"bgcolor\": \"#F5F6F9\", \"font\": {\"color\": \"#4D5663\"}}, \"paper_bgcolor\": \"#F5F6F9\", \"plot_bgcolor\": \"#F5F6F9\", \"template\": {\"data\": {\"bar\": [{\"error_x\": {\"color\": \"#2a3f5f\"}, \"error_y\": {\"color\": \"#2a3f5f\"}, \"marker\": {\"line\": {\"color\": \"#E5ECF6\", \"width\": 0.5}}, \"type\": \"bar\"}], \"barpolar\": [{\"marker\": {\"line\": {\"color\": \"#E5ECF6\", \"width\": 0.5}}, \"type\": \"barpolar\"}], \"carpet\": [{\"aaxis\": {\"endlinecolor\": \"#2a3f5f\", \"gridcolor\": \"white\", \"linecolor\": \"white\", \"minorgridcolor\": \"white\", \"startlinecolor\": \"#2a3f5f\"}, \"baxis\": {\"endlinecolor\": \"#2a3f5f\", \"gridcolor\": \"white\", \"linecolor\": \"white\", \"minorgridcolor\": \"white\", \"startlinecolor\": \"#2a3f5f\"}, \"type\": \"carpet\"}], \"choropleth\": [{\"colorbar\": {\"outlinewidth\": 0, \"ticks\": \"\"}, \"type\": \"choropleth\"}], \"contour\": [{\"colorbar\": {\"outlinewidth\": 0, \"ticks\": \"\"}, \"colorscale\": [[0.0, \"#0d0887\"], [0.1111111111111111, \"#46039f\"], [0.2222222222222222, \"#7201a8\"], [0.3333333333333333, \"#9c179e\"], [0.4444444444444444, \"#bd3786\"], [0.5555555555555556, \"#d8576b\"], [0.6666666666666666, \"#ed7953\"], [0.7777777777777778, \"#fb9f3a\"], [0.8888888888888888, \"#fdca26\"], [1.0, \"#f0f921\"]], \"type\": \"contour\"}], \"contourcarpet\": [{\"colorbar\": {\"outlinewidth\": 0, \"ticks\": \"\"}, \"type\": \"contourcarpet\"}], \"heatmap\": [{\"colorbar\": {\"outlinewidth\": 0, \"ticks\": \"\"}, \"colorscale\": [[0.0, \"#0d0887\"], [0.1111111111111111, \"#46039f\"], [0.2222222222222222, \"#7201a8\"], [0.3333333333333333, \"#9c179e\"], [0.4444444444444444, \"#bd3786\"], [0.5555555555555556, \"#d8576b\"], [0.6666666666666666, \"#ed7953\"], [0.7777777777777778, \"#fb9f3a\"], [0.8888888888888888, \"#fdca26\"], [1.0, \"#f0f921\"]], \"type\": \"heatmap\"}], \"heatmapgl\": [{\"colorbar\": {\"outlinewidth\": 0, \"ticks\": \"\"}, \"colorscale\": [[0.0, \"#0d0887\"], [0.1111111111111111, \"#46039f\"], [0.2222222222222222, \"#7201a8\"], [0.3333333333333333, \"#9c179e\"], [0.4444444444444444, \"#bd3786\"], [0.5555555555555556, \"#d8576b\"], [0.6666666666666666, \"#ed7953\"], [0.7777777777777778, \"#fb9f3a\"], [0.8888888888888888, \"#fdca26\"], [1.0, \"#f0f921\"]], \"type\": \"heatmapgl\"}], \"histogram\": [{\"marker\": {\"colorbar\": {\"outlinewidth\": 0, \"ticks\": \"\"}}, \"type\": \"histogram\"}], \"histogram2d\": [{\"colorbar\": {\"outlinewidth\": 0, \"ticks\": \"\"}, \"colorscale\": [[0.0, \"#0d0887\"], [0.1111111111111111, \"#46039f\"], [0.2222222222222222, \"#7201a8\"], [0.3333333333333333, \"#9c179e\"], [0.4444444444444444, \"#bd3786\"], [0.5555555555555556, \"#d8576b\"], [0.6666666666666666, \"#ed7953\"], [0.7777777777777778, \"#fb9f3a\"], [0.8888888888888888, \"#fdca26\"], [1.0, \"#f0f921\"]], \"type\": \"histogram2d\"}], \"histogram2dcontour\": [{\"colorbar\": {\"outlinewidth\": 0, \"ticks\": \"\"}, \"colorscale\": [[0.0, \"#0d0887\"], [0.1111111111111111, \"#46039f\"], [0.2222222222222222, \"#7201a8\"], [0.3333333333333333, \"#9c179e\"], [0.4444444444444444, \"#bd3786\"], [0.5555555555555556, \"#d8576b\"], [0.6666666666666666, \"#ed7953\"], [0.7777777777777778, \"#fb9f3a\"], [0.8888888888888888, \"#fdca26\"], [1.0, \"#f0f921\"]], \"type\": \"histogram2dcontour\"}], \"mesh3d\": [{\"colorbar\": {\"outlinewidth\": 0, \"ticks\": \"\"}, \"type\": \"mesh3d\"}], \"parcoords\": [{\"line\": {\"colorbar\": {\"outlinewidth\": 0, \"ticks\": \"\"}}, \"type\": \"parcoords\"}], \"pie\": [{\"automargin\": true, \"type\": \"pie\"}], \"scatter\": [{\"marker\": {\"colorbar\": {\"outlinewidth\": 0, \"ticks\": \"\"}}, \"type\": \"scatter\"}], \"scatter3d\": [{\"line\": {\"colorbar\": {\"outlinewidth\": 0, \"ticks\": \"\"}}, \"marker\": {\"colorbar\": {\"outlinewidth\": 0, \"ticks\": \"\"}}, \"type\": \"scatter3d\"}], \"scattercarpet\": [{\"marker\": {\"colorbar\": {\"outlinewidth\": 0, \"ticks\": \"\"}}, \"type\": \"scattercarpet\"}], \"scattergeo\": [{\"marker\": {\"colorbar\": {\"outlinewidth\": 0, \"ticks\": \"\"}}, \"type\": \"scattergeo\"}], \"scattergl\": [{\"marker\": {\"colorbar\": {\"outlinewidth\": 0, \"ticks\": \"\"}}, \"type\": \"scattergl\"}], \"scattermapbox\": [{\"marker\": {\"colorbar\": {\"outlinewidth\": 0, \"ticks\": \"\"}}, \"type\": \"scattermapbox\"}], \"scatterpolar\": [{\"marker\": {\"colorbar\": {\"outlinewidth\": 0, \"ticks\": \"\"}}, \"type\": \"scatterpolar\"}], \"scatterpolargl\": [{\"marker\": {\"colorbar\": {\"outlinewidth\": 0, \"ticks\": \"\"}}, \"type\": \"scatterpolargl\"}], \"scatterternary\": [{\"marker\": {\"colorbar\": {\"outlinewidth\": 0, \"ticks\": \"\"}}, \"type\": \"scatterternary\"}], \"surface\": [{\"colorbar\": {\"outlinewidth\": 0, \"ticks\": \"\"}, \"colorscale\": [[0.0, \"#0d0887\"], [0.1111111111111111, \"#46039f\"], [0.2222222222222222, \"#7201a8\"], [0.3333333333333333, \"#9c179e\"], [0.4444444444444444, \"#bd3786\"], [0.5555555555555556, \"#d8576b\"], [0.6666666666666666, \"#ed7953\"], [0.7777777777777778, \"#fb9f3a\"], [0.8888888888888888, \"#fdca26\"], [1.0, \"#f0f921\"]], \"type\": \"surface\"}], \"table\": [{\"cells\": {\"fill\": {\"color\": \"#EBF0F8\"}, \"line\": {\"color\": \"white\"}}, \"header\": {\"fill\": {\"color\": \"#C8D4E3\"}, \"line\": {\"color\": \"white\"}}, \"type\": \"table\"}]}, \"layout\": {\"annotationdefaults\": {\"arrowcolor\": \"#2a3f5f\", \"arrowhead\": 0, \"arrowwidth\": 1}, \"coloraxis\": {\"colorbar\": {\"outlinewidth\": 0, \"ticks\": \"\"}}, \"colorscale\": {\"diverging\": [[0, \"#8e0152\"], [0.1, \"#c51b7d\"], [0.2, \"#de77ae\"], [0.3, \"#f1b6da\"], [0.4, \"#fde0ef\"], [0.5, \"#f7f7f7\"], [0.6, \"#e6f5d0\"], [0.7, \"#b8e186\"], [0.8, \"#7fbc41\"], [0.9, \"#4d9221\"], [1, \"#276419\"]], \"sequential\": [[0.0, \"#0d0887\"], [0.1111111111111111, \"#46039f\"], [0.2222222222222222, \"#7201a8\"], [0.3333333333333333, \"#9c179e\"], [0.4444444444444444, \"#bd3786\"], [0.5555555555555556, \"#d8576b\"], [0.6666666666666666, \"#ed7953\"], [0.7777777777777778, \"#fb9f3a\"], [0.8888888888888888, \"#fdca26\"], [1.0, \"#f0f921\"]], \"sequentialminus\": [[0.0, \"#0d0887\"], [0.1111111111111111, \"#46039f\"], [0.2222222222222222, \"#7201a8\"], [0.3333333333333333, \"#9c179e\"], [0.4444444444444444, \"#bd3786\"], [0.5555555555555556, \"#d8576b\"], [0.6666666666666666, \"#ed7953\"], [0.7777777777777778, \"#fb9f3a\"], [0.8888888888888888, \"#fdca26\"], [1.0, \"#f0f921\"]]}, \"colorway\": [\"#636efa\", \"#EF553B\", \"#00cc96\", \"#ab63fa\", \"#FFA15A\", \"#19d3f3\", \"#FF6692\", \"#B6E880\", \"#FF97FF\", \"#FECB52\"], \"font\": {\"color\": \"#2a3f5f\"}, \"geo\": {\"bgcolor\": \"white\", \"lakecolor\": \"white\", \"landcolor\": \"#E5ECF6\", \"showlakes\": true, \"showland\": true, \"subunitcolor\": \"white\"}, \"hoverlabel\": {\"align\": \"left\"}, \"hovermode\": \"closest\", \"mapbox\": {\"style\": \"light\"}, \"paper_bgcolor\": \"white\", \"plot_bgcolor\": \"#E5ECF6\", \"polar\": {\"angularaxis\": {\"gridcolor\": \"white\", \"linecolor\": \"white\", \"ticks\": \"\"}, \"bgcolor\": \"#E5ECF6\", \"radialaxis\": {\"gridcolor\": \"white\", \"linecolor\": \"white\", \"ticks\": \"\"}}, \"scene\": {\"xaxis\": {\"backgroundcolor\": \"#E5ECF6\", \"gridcolor\": \"white\", \"gridwidth\": 2, \"linecolor\": \"white\", \"showbackground\": true, \"ticks\": \"\", \"zerolinecolor\": \"white\"}, \"yaxis\": {\"backgroundcolor\": \"#E5ECF6\", \"gridcolor\": \"white\", \"gridwidth\": 2, \"linecolor\": \"white\", \"showbackground\": true, \"ticks\": \"\", \"zerolinecolor\": \"white\"}, \"zaxis\": {\"backgroundcolor\": \"#E5ECF6\", \"gridcolor\": \"white\", \"gridwidth\": 2, \"linecolor\": \"white\", \"showbackground\": true, \"ticks\": \"\", \"zerolinecolor\": \"white\"}}, \"shapedefaults\": {\"line\": {\"color\": \"#2a3f5f\"}}, \"ternary\": {\"aaxis\": {\"gridcolor\": \"white\", \"linecolor\": \"white\", \"ticks\": \"\"}, \"baxis\": {\"gridcolor\": \"white\", \"linecolor\": \"white\", \"ticks\": \"\"}, \"bgcolor\": \"#E5ECF6\", \"caxis\": {\"gridcolor\": \"white\", \"linecolor\": \"white\", \"ticks\": \"\"}}, \"title\": {\"x\": 0.05}, \"xaxis\": {\"automargin\": true, \"gridcolor\": \"white\", \"linecolor\": \"white\", \"ticks\": \"\", \"title\": {\"standoff\": 15}, \"zerolinecolor\": \"white\", \"zerolinewidth\": 2}, \"yaxis\": {\"automargin\": true, \"gridcolor\": \"white\", \"linecolor\": \"white\", \"ticks\": \"\", \"title\": {\"standoff\": 15}, \"zerolinecolor\": \"white\", \"zerolinewidth\": 2}}}, \"title\": {\"font\": {\"color\": \"#4D5663\"}}, \"xaxis\": {\"gridcolor\": \"#E1E5ED\", \"showgrid\": true, \"tickfont\": {\"color\": \"#4D5663\"}, \"title\": {\"font\": {\"color\": \"#4D5663\"}, \"text\": \"\"}, \"zerolinecolor\": \"#E1E5ED\"}, \"yaxis\": {\"gridcolor\": \"#E1E5ED\", \"showgrid\": true, \"tickfont\": {\"color\": \"#4D5663\"}, \"title\": {\"font\": {\"color\": \"#4D5663\"}, \"text\": \"\"}, \"zerolinecolor\": \"#E1E5ED\"}},\n",
              "                        {\"showLink\": true, \"linkText\": \"Export to plot.ly\", \"plotlyServerURL\": \"https://plot.ly\", \"responsive\": true}\n",
              "                    ).then(function(){\n",
              "                            \n",
              "var gd = document.getElementById('d9f23c99-f176-4cff-9d25-ff025c985bde');\n",
              "var x = new MutationObserver(function (mutations, observer) {{\n",
              "        var display = window.getComputedStyle(gd).display;\n",
              "        if (!display || display === 'none') {{\n",
              "            console.log([gd, 'removed!']);\n",
              "            Plotly.purge(gd);\n",
              "            observer.disconnect();\n",
              "        }}\n",
              "}});\n",
              "\n",
              "// Listen for the removal of the full notebook cells\n",
              "var notebookContainer = gd.closest('#notebook-container');\n",
              "if (notebookContainer) {{\n",
              "    x.observe(notebookContainer, {childList: true});\n",
              "}}\n",
              "\n",
              "// Listen for the clearing of the current output cell\n",
              "var outputEl = gd.closest('.output');\n",
              "if (outputEl) {{\n",
              "    x.observe(outputEl, {childList: true});\n",
              "}}\n",
              "\n",
              "                        })\n",
              "                };\n",
              "                });\n",
              "            </script>\n",
              "        </div>"
            ],
            "application/vnd.plotly.v1+json": {
              "data": [
                {
                  "name": "code",
                  "text": "",
                  "y": [
                    "AL",
                    "AK",
                    "AZ",
                    "AR",
                    "CA",
                    "CO",
                    "CT",
                    "DE",
                    "FL",
                    "GA",
                    "HI",
                    "ID",
                    "IL",
                    "IN",
                    "IA",
                    "KS",
                    "KY",
                    "LA",
                    "ME",
                    "MD",
                    "MA",
                    "MI",
                    "MN",
                    "MS",
                    "MO",
                    "MT",
                    "NE",
                    "NV",
                    "NH",
                    "NJ",
                    "NM",
                    "NY",
                    "NC",
                    "ND",
                    "OH",
                    "OK",
                    "OR",
                    "PA",
                    "RI",
                    "SC",
                    "SD",
                    "TN",
                    "TX",
                    "UT",
                    "VT",
                    "VA",
                    "WA",
                    "WV",
                    "WI",
                    "WY"
                  ],
                  "mode": "markers",
                  "marker": {
                    "symbol": "x",
                    "size": 12
                  },
                  "x": [
                    0,
                    1,
                    2,
                    3,
                    4,
                    5,
                    6,
                    7,
                    8,
                    9,
                    10,
                    11,
                    12,
                    13,
                    14,
                    15,
                    16,
                    17,
                    18,
                    19,
                    20,
                    21,
                    22,
                    23,
                    24,
                    25,
                    26,
                    27,
                    28,
                    29,
                    30,
                    31,
                    32,
                    33,
                    34,
                    35,
                    36,
                    37,
                    38,
                    39,
                    40,
                    41,
                    42,
                    43,
                    44,
                    45,
                    46,
                    47,
                    48,
                    49
                  ],
                  "line": {
                    "color": "rgba(166, 206, 227, 1.0)",
                    "dash": "solid",
                    "shape": "linear",
                    "width": 1.3
                  },
                  "type": "scatter"
                },
                {
                  "name": "state",
                  "text": "",
                  "y": [
                    "Alabama",
                    "Alaska",
                    "Arizona",
                    "Arkansas",
                    " California",
                    "Colorado",
                    "Connecticut",
                    "Delaware",
                    "Florida",
                    "Georgia",
                    "Hawaii",
                    "Idaho",
                    "Illinois",
                    "Indiana",
                    "Iowa",
                    "Kansas",
                    "Kentucky",
                    "Louisiana",
                    "Maine",
                    "Maryland",
                    "Massachusetts",
                    "Michigan",
                    "Minnesota",
                    "Mississippi",
                    "Missouri",
                    "Montana",
                    "Nebraska",
                    "Nevada",
                    "New Hampshire",
                    "New Jersey",
                    "New Mexico",
                    "New York",
                    "North Carolina",
                    "North Dakota",
                    "Ohio",
                    "Oklahoma",
                    "Oregon",
                    "Pennsylvania",
                    "Rhode Island",
                    "South Carolina",
                    "South Dakota",
                    "Tennessee",
                    "Texas",
                    "Utah",
                    "Vermont",
                    "Virginia",
                    "Washington",
                    "West Virginia",
                    "Wisconsin",
                    "Wyoming"
                  ],
                  "mode": "markers",
                  "marker": {
                    "symbol": "x",
                    "size": 12
                  },
                  "x": [
                    0,
                    1,
                    2,
                    3,
                    4,
                    5,
                    6,
                    7,
                    8,
                    9,
                    10,
                    11,
                    12,
                    13,
                    14,
                    15,
                    16,
                    17,
                    18,
                    19,
                    20,
                    21,
                    22,
                    23,
                    24,
                    25,
                    26,
                    27,
                    28,
                    29,
                    30,
                    31,
                    32,
                    33,
                    34,
                    35,
                    36,
                    37,
                    38,
                    39,
                    40,
                    41,
                    42,
                    43,
                    44,
                    45,
                    46,
                    47,
                    48,
                    49
                  ],
                  "line": {
                    "color": "rgba(31, 120, 180, 1.0)",
                    "dash": "solid",
                    "shape": "linear",
                    "width": 1.3
                  },
                  "type": "scatter"
                },
                {
                  "name": "category",
                  "text": "",
                  "y": [
                    "state",
                    "state",
                    "state",
                    "state",
                    " state",
                    "state",
                    "state",
                    "state",
                    "state",
                    "state",
                    "state",
                    "state",
                    "state",
                    "state",
                    "state",
                    "state",
                    "state",
                    "state",
                    "state",
                    "state",
                    "state",
                    "state",
                    "state",
                    "state",
                    "state",
                    "state",
                    "state",
                    "state",
                    "state",
                    "state",
                    "state",
                    "state",
                    "state",
                    "state",
                    "state",
                    "state",
                    "state",
                    "state",
                    "state",
                    "state",
                    "state",
                    "state",
                    "state",
                    "state",
                    "state",
                    "state",
                    "state",
                    "state",
                    "state",
                    "state"
                  ],
                  "mode": "markers",
                  "marker": {
                    "symbol": "x",
                    "size": 12
                  },
                  "x": [
                    0,
                    1,
                    2,
                    3,
                    4,
                    5,
                    6,
                    7,
                    8,
                    9,
                    10,
                    11,
                    12,
                    13,
                    14,
                    15,
                    16,
                    17,
                    18,
                    19,
                    20,
                    21,
                    22,
                    23,
                    24,
                    25,
                    26,
                    27,
                    28,
                    29,
                    30,
                    31,
                    32,
                    33,
                    34,
                    35,
                    36,
                    37,
                    38,
                    39,
                    40,
                    41,
                    42,
                    43,
                    44,
                    45,
                    46,
                    47,
                    48,
                    49
                  ],
                  "line": {
                    "color": "rgba(178, 223, 138, 1.0)",
                    "dash": "solid",
                    "shape": "linear",
                    "width": 1.3
                  },
                  "type": "scatter"
                },
                {
                  "name": "total exports",
                  "text": "",
                  "y": [
                    1390.63,
                    13.31,
                    1463.17,
                    3586.02,
                    16472.88,
                    1851.33,
                    259.62,
                    282.19,
                    3764.09,
                    2860.84,
                    401.84,
                    2078.89,
                    8709.48,
                    5050.23,
                    11273.76,
                    4589.01,
                    1889.15,
                    1914.23,
                    278.37,
                    692.75,
                    248.65,
                    3164.16,
                    7192.33,
                    2170.8,
                    3933.42,
                    1718,
                    7114.13,
                    139.89,
                    73.06,
                    500.4,
                    751.58,
                    1488.9,
                    3806.05,
                    3761.96,
                    3979.79,
                    1646.41,
                    1794.57,
                    1969.87,
                    31.59,
                    929.93,
                    3770.19,
                    1535.13,
                    6648.22,
                    453.39,
                    180.14,
                    1146.48,
                    3894.81,
                    138.89,
                    3090.23,
                    349.69
                  ],
                  "mode": "markers",
                  "marker": {
                    "symbol": "x",
                    "size": 12
                  },
                  "x": [
                    0,
                    1,
                    2,
                    3,
                    4,
                    5,
                    6,
                    7,
                    8,
                    9,
                    10,
                    11,
                    12,
                    13,
                    14,
                    15,
                    16,
                    17,
                    18,
                    19,
                    20,
                    21,
                    22,
                    23,
                    24,
                    25,
                    26,
                    27,
                    28,
                    29,
                    30,
                    31,
                    32,
                    33,
                    34,
                    35,
                    36,
                    37,
                    38,
                    39,
                    40,
                    41,
                    42,
                    43,
                    44,
                    45,
                    46,
                    47,
                    48,
                    49
                  ],
                  "line": {
                    "color": "rgba(51, 160, 44, 1.0)",
                    "dash": "solid",
                    "shape": "linear",
                    "width": 1.3
                  },
                  "type": "scatter"
                },
                {
                  "name": "beef",
                  "text": "",
                  "y": [
                    34.4,
                    0.2,
                    71.3,
                    53.2,
                    228.7,
                    261.4,
                    1.1,
                    0.4,
                    42.6,
                    31,
                    4,
                    119.8,
                    53.7,
                    21.9,
                    289.8,
                    659.3,
                    54.8,
                    19.8,
                    1.4,
                    5.6,
                    0.6,
                    37.7,
                    112.3,
                    12.8,
                    137.2,
                    105,
                    762.2,
                    21.8,
                    0.6,
                    0.8,
                    117.2,
                    22.2,
                    24.8,
                    78.5,
                    36.2,
                    337.6,
                    58.8,
                    50.9,
                    0.1,
                    15.2,
                    193.5,
                    51.1,
                    961,
                    27.9,
                    6.2,
                    39.5,
                    59.2,
                    12,
                    107.3,
                    75.1
                  ],
                  "mode": "markers",
                  "marker": {
                    "symbol": "x",
                    "size": 12
                  },
                  "x": [
                    0,
                    1,
                    2,
                    3,
                    4,
                    5,
                    6,
                    7,
                    8,
                    9,
                    10,
                    11,
                    12,
                    13,
                    14,
                    15,
                    16,
                    17,
                    18,
                    19,
                    20,
                    21,
                    22,
                    23,
                    24,
                    25,
                    26,
                    27,
                    28,
                    29,
                    30,
                    31,
                    32,
                    33,
                    34,
                    35,
                    36,
                    37,
                    38,
                    39,
                    40,
                    41,
                    42,
                    43,
                    44,
                    45,
                    46,
                    47,
                    48,
                    49
                  ],
                  "line": {
                    "color": "rgba(251, 154, 153, 1.0)",
                    "dash": "solid",
                    "shape": "linear",
                    "width": 1.3
                  },
                  "type": "scatter"
                },
                {
                  "name": "pork",
                  "text": "",
                  "y": [
                    10.6,
                    0.1,
                    17.9,
                    29.4,
                    11.1,
                    66,
                    0.1,
                    0.6,
                    0.9,
                    18.9,
                    0.7,
                    0,
                    394,
                    341.9,
                    1895.6,
                    179.4,
                    34.2,
                    0.8,
                    0.5,
                    3.1,
                    0.5,
                    118.1,
                    740.4,
                    30.4,
                    277.3,
                    16.7,
                    262.5,
                    0.2,
                    0.2,
                    0.4,
                    0.1,
                    5.8,
                    702.8,
                    16.1,
                    199.1,
                    265.3,
                    1.4,
                    91.3,
                    0.1,
                    10.9,
                    160.2,
                    17.6,
                    42.7,
                    59,
                    0.2,
                    16.9,
                    0,
                    0.3,
                    38.6,
                    33.2
                  ],
                  "mode": "markers",
                  "marker": {
                    "symbol": "x",
                    "size": 12
                  },
                  "x": [
                    0,
                    1,
                    2,
                    3,
                    4,
                    5,
                    6,
                    7,
                    8,
                    9,
                    10,
                    11,
                    12,
                    13,
                    14,
                    15,
                    16,
                    17,
                    18,
                    19,
                    20,
                    21,
                    22,
                    23,
                    24,
                    25,
                    26,
                    27,
                    28,
                    29,
                    30,
                    31,
                    32,
                    33,
                    34,
                    35,
                    36,
                    37,
                    38,
                    39,
                    40,
                    41,
                    42,
                    43,
                    44,
                    45,
                    46,
                    47,
                    48,
                    49
                  ],
                  "line": {
                    "color": "rgba(227, 26, 28, 1.0)",
                    "dash": "solid",
                    "shape": "linear",
                    "width": 1.3
                  },
                  "type": "scatter"
                },
                {
                  "name": "poultry",
                  "text": "",
                  "y": [
                    481,
                    0,
                    0,
                    562.9,
                    225.4,
                    14,
                    6.9,
                    114.7,
                    56.9,
                    630.4,
                    1.3,
                    2.4,
                    14,
                    165.6,
                    155.6,
                    6.4,
                    151.3,
                    77.2,
                    10.4,
                    127,
                    0.6,
                    32.6,
                    189.2,
                    370.8,
                    196.1,
                    1.7,
                    31.4,
                    0,
                    0.8,
                    4.6,
                    0.3,
                    17.7,
                    598.4,
                    0.5,
                    129.9,
                    131.1,
                    14.2,
                    169.8,
                    0.2,
                    186.5,
                    29.3,
                    82.4,
                    339.2,
                    23.1,
                    0.9,
                    164.7,
                    35.6,
                    45.4,
                    34.5,
                    0.1
                  ],
                  "mode": "markers",
                  "marker": {
                    "symbol": "x",
                    "size": 12
                  },
                  "x": [
                    0,
                    1,
                    2,
                    3,
                    4,
                    5,
                    6,
                    7,
                    8,
                    9,
                    10,
                    11,
                    12,
                    13,
                    14,
                    15,
                    16,
                    17,
                    18,
                    19,
                    20,
                    21,
                    22,
                    23,
                    24,
                    25,
                    26,
                    27,
                    28,
                    29,
                    30,
                    31,
                    32,
                    33,
                    34,
                    35,
                    36,
                    37,
                    38,
                    39,
                    40,
                    41,
                    42,
                    43,
                    44,
                    45,
                    46,
                    47,
                    48,
                    49
                  ],
                  "line": {
                    "color": "rgba(253, 191, 111, 1.0)",
                    "dash": "solid",
                    "shape": "linear",
                    "width": 1.3
                  },
                  "type": "scatter"
                },
                {
                  "name": "dairy",
                  "text": "",
                  "y": [
                    4.06,
                    0.19,
                    105.48,
                    3.53,
                    929.95,
                    71.94,
                    9.49,
                    2.3,
                    66.31,
                    38.38,
                    1.16,
                    294.6,
                    45.82,
                    89.7,
                    107,
                    65.45,
                    28.27,
                    6.02,
                    16.18,
                    24.81,
                    5.81,
                    214.82,
                    218.05,
                    5.45,
                    34.26,
                    6.82,
                    30.07,
                    16.57,
                    7.46,
                    3.37,
                    191.01,
                    331.8,
                    24.9,
                    8.14,
                    134.57,
                    24.35,
                    63.66,
                    280.87,
                    0.52,
                    7.62,
                    46.77,
                    21.18,
                    240.55,
                    48.6,
                    65.98,
                    47.85,
                    154.18,
                    3.9,
                    633.6,
                    2.89
                  ],
                  "mode": "markers",
                  "marker": {
                    "symbol": "x",
                    "size": 12
                  },
                  "x": [
                    0,
                    1,
                    2,
                    3,
                    4,
                    5,
                    6,
                    7,
                    8,
                    9,
                    10,
                    11,
                    12,
                    13,
                    14,
                    15,
                    16,
                    17,
                    18,
                    19,
                    20,
                    21,
                    22,
                    23,
                    24,
                    25,
                    26,
                    27,
                    28,
                    29,
                    30,
                    31,
                    32,
                    33,
                    34,
                    35,
                    36,
                    37,
                    38,
                    39,
                    40,
                    41,
                    42,
                    43,
                    44,
                    45,
                    46,
                    47,
                    48,
                    49
                  ],
                  "line": {
                    "color": "rgba(255, 127, 0, 1.0)",
                    "dash": "solid",
                    "shape": "linear",
                    "width": 1.3
                  },
                  "type": "scatter"
                },
                {
                  "name": "fruits fresh",
                  "text": "",
                  "y": [
                    8,
                    0,
                    19.3,
                    2.2,
                    2791.8,
                    5.7,
                    4.2,
                    0.5,
                    438.2,
                    74.6,
                    17.7,
                    6.9,
                    4,
                    4.1,
                    1,
                    1,
                    2.1,
                    5.7,
                    16.6,
                    4.1,
                    25.8,
                    82.3,
                    2.5,
                    5.4,
                    4.2,
                    1.1,
                    0.7,
                    0.4,
                    2.6,
                    35,
                    32.6,
                    64.7,
                    23.8,
                    0.1,
                    8.7,
                    3,
                    100.7,
                    28.6,
                    0.9,
                    17.1,
                    0.3,
                    2,
                    31.9,
                    3.9,
                    2.6,
                    11.7,
                    555.6,
                    3.7,
                    42.8,
                    0.1
                  ],
                  "mode": "markers",
                  "marker": {
                    "symbol": "x",
                    "size": 12
                  },
                  "x": [
                    0,
                    1,
                    2,
                    3,
                    4,
                    5,
                    6,
                    7,
                    8,
                    9,
                    10,
                    11,
                    12,
                    13,
                    14,
                    15,
                    16,
                    17,
                    18,
                    19,
                    20,
                    21,
                    22,
                    23,
                    24,
                    25,
                    26,
                    27,
                    28,
                    29,
                    30,
                    31,
                    32,
                    33,
                    34,
                    35,
                    36,
                    37,
                    38,
                    39,
                    40,
                    41,
                    42,
                    43,
                    44,
                    45,
                    46,
                    47,
                    48,
                    49
                  ],
                  "line": {
                    "color": "rgba(202, 178, 214, 1.0)",
                    "dash": "solid",
                    "shape": "linear",
                    "width": 1.3
                  },
                  "type": "scatter"
                },
                {
                  "name": "fruits proc",
                  "text": "",
                  "y": [
                    17.1,
                    0,
                    41,
                    4.7,
                    5944.6,
                    12.2,
                    8.9,
                    1,
                    933.1,
                    158.9,
                    37.8,
                    14.7,
                    8.5,
                    8.8,
                    2.2,
                    2.1,
                    4.5,
                    12.1,
                    35.4,
                    8.8,
                    55,
                    175.3,
                    5.4,
                    11.6,
                    9,
                    2.2,
                    1.5,
                    0.8,
                    5.4,
                    74.5,
                    69.3,
                    137.8,
                    50.7,
                    0.2,
                    18.5,
                    6.3,
                    214.4,
                    60.9,
                    1.9,
                    36.4,
                    0.5,
                    4.2,
                    68,
                    8.4,
                    5.4,
                    24.8,
                    1183,
                    7.9,
                    91,
                    0.1
                  ],
                  "mode": "markers",
                  "marker": {
                    "symbol": "x",
                    "size": 12
                  },
                  "x": [
                    0,
                    1,
                    2,
                    3,
                    4,
                    5,
                    6,
                    7,
                    8,
                    9,
                    10,
                    11,
                    12,
                    13,
                    14,
                    15,
                    16,
                    17,
                    18,
                    19,
                    20,
                    21,
                    22,
                    23,
                    24,
                    25,
                    26,
                    27,
                    28,
                    29,
                    30,
                    31,
                    32,
                    33,
                    34,
                    35,
                    36,
                    37,
                    38,
                    39,
                    40,
                    41,
                    42,
                    43,
                    44,
                    45,
                    46,
                    47,
                    48,
                    49
                  ],
                  "line": {
                    "color": "rgba(106, 61, 154, 1.0)",
                    "dash": "solid",
                    "shape": "linear",
                    "width": 1.3
                  },
                  "type": "scatter"
                },
                {
                  "name": "total fruits",
                  "text": "",
                  "y": [
                    25.11,
                    0,
                    60.27,
                    6.88,
                    8736.4,
                    17.99,
                    13.1,
                    1.53,
                    1371.36,
                    233.51,
                    55.51,
                    21.64,
                    12.53,
                    12.98,
                    3.24,
                    3.11,
                    6.6,
                    17.83,
                    52.01,
                    12.9,
                    80.83,
                    257.69,
                    7.91,
                    17.04,
                    13.18,
                    3.3,
                    2.16,
                    1.19,
                    7.98,
                    109.45,
                    101.9,
                    202.56,
                    74.47,
                    0.25,
                    27.21,
                    9.24,
                    315.04,
                    89.48,
                    2.83,
                    53.45,
                    0.8,
                    6.23,
                    99.9,
                    12.34,
                    8.01,
                    36.48,
                    1738.57,
                    11.54,
                    133.8,
                    0.17
                  ],
                  "mode": "markers",
                  "marker": {
                    "symbol": "x",
                    "size": 12
                  },
                  "x": [
                    0,
                    1,
                    2,
                    3,
                    4,
                    5,
                    6,
                    7,
                    8,
                    9,
                    10,
                    11,
                    12,
                    13,
                    14,
                    15,
                    16,
                    17,
                    18,
                    19,
                    20,
                    21,
                    22,
                    23,
                    24,
                    25,
                    26,
                    27,
                    28,
                    29,
                    30,
                    31,
                    32,
                    33,
                    34,
                    35,
                    36,
                    37,
                    38,
                    39,
                    40,
                    41,
                    42,
                    43,
                    44,
                    45,
                    46,
                    47,
                    48,
                    49
                  ],
                  "line": {
                    "color": "rgba(255, 255, 153, 1.0)",
                    "dash": "solid",
                    "shape": "linear",
                    "width": 1.3
                  },
                  "type": "scatter"
                },
                {
                  "name": "veggies fresh",
                  "text": "",
                  "y": [
                    5.5,
                    0.6,
                    147.5,
                    4.4,
                    803.2,
                    45.1,
                    4.3,
                    7.6,
                    171.9,
                    59,
                    9.5,
                    121.7,
                    15.2,
                    14.4,
                    2.7,
                    3.6,
                    0,
                    6.6,
                    24,
                    7.8,
                    8.1,
                    72.4,
                    45.9,
                    10.6,
                    6.8,
                    17.3,
                    20.4,
                    10.6,
                    1.7,
                    21.6,
                    16.7,
                    54.7,
                    57.4,
                    49.9,
                    20.4,
                    3.4,
                    48.2,
                    14.6,
                    1.2,
                    16.3,
                    1.5,
                    9.4,
                    43.9,
                    2.5,
                    1.5,
                    10.4,
                    138.7,
                    0,
                    56.8,
                    3.9
                  ],
                  "mode": "markers",
                  "marker": {
                    "symbol": "x",
                    "size": 12
                  },
                  "x": [
                    0,
                    1,
                    2,
                    3,
                    4,
                    5,
                    6,
                    7,
                    8,
                    9,
                    10,
                    11,
                    12,
                    13,
                    14,
                    15,
                    16,
                    17,
                    18,
                    19,
                    20,
                    21,
                    22,
                    23,
                    24,
                    25,
                    26,
                    27,
                    28,
                    29,
                    30,
                    31,
                    32,
                    33,
                    34,
                    35,
                    36,
                    37,
                    38,
                    39,
                    40,
                    41,
                    42,
                    43,
                    44,
                    45,
                    46,
                    47,
                    48,
                    49
                  ],
                  "line": {
                    "color": "rgba(177, 89, 40, 1.0)",
                    "dash": "solid",
                    "shape": "linear",
                    "width": 1.3
                  },
                  "type": "scatter"
                },
                {
                  "name": "veggies proc",
                  "text": "",
                  "y": [
                    8.9,
                    1,
                    239.4,
                    7.1,
                    1303.5,
                    73.2,
                    6.9,
                    12.4,
                    279,
                    95.8,
                    15.4,
                    197.5,
                    24.7,
                    23.4,
                    4.4,
                    5.8,
                    0,
                    10.7,
                    38.9,
                    12.6,
                    13.1,
                    117.5,
                    74.5,
                    17.2,
                    11.1,
                    28,
                    33.1,
                    17.3,
                    2.8,
                    35,
                    27.1,
                    88.7,
                    93.1,
                    80.9,
                    33.1,
                    5.5,
                    78.3,
                    23.7,
                    1.9,
                    26.4,
                    2.5,
                    15.3,
                    71.3,
                    4.1,
                    2.5,
                    16.9,
                    225.1,
                    0,
                    92.2,
                    6.3
                  ],
                  "mode": "markers",
                  "marker": {
                    "symbol": "x",
                    "size": 12
                  },
                  "x": [
                    0,
                    1,
                    2,
                    3,
                    4,
                    5,
                    6,
                    7,
                    8,
                    9,
                    10,
                    11,
                    12,
                    13,
                    14,
                    15,
                    16,
                    17,
                    18,
                    19,
                    20,
                    21,
                    22,
                    23,
                    24,
                    25,
                    26,
                    27,
                    28,
                    29,
                    30,
                    31,
                    32,
                    33,
                    34,
                    35,
                    36,
                    37,
                    38,
                    39,
                    40,
                    41,
                    42,
                    43,
                    44,
                    45,
                    46,
                    47,
                    48,
                    49
                  ],
                  "line": {
                    "color": "rgba(177, 89, 40, 0.8999999999999999)",
                    "dash": "solid",
                    "shape": "linear",
                    "width": 1.3
                  },
                  "type": "scatter"
                },
                {
                  "name": "total veggies",
                  "text": "",
                  "y": [
                    14.33,
                    1.56,
                    386.91,
                    11.45,
                    2106.79,
                    118.27,
                    11.16,
                    20.03,
                    450.86,
                    154.77,
                    24.83,
                    319.19,
                    39.95,
                    37.89,
                    7.1,
                    9.32,
                    0,
                    17.25,
                    62.9,
                    20.43,
                    21.13,
                    189.96,
                    120.37,
                    27.87,
                    17.9,
                    45.27,
                    53.5,
                    27.93,
                    4.5,
                    56.54,
                    43.88,
                    143.37,
                    150.45,
                    130.79,
                    53.53,
                    8.9,
                    126.5,
                    38.26,
                    3.02,
                    42.66,
                    4.06,
                    24.67,
                    115.23,
                    6.6,
                    4.05,
                    27.25,
                    363.79,
                    0,
                    148.99,
                    10.23
                  ],
                  "mode": "markers",
                  "marker": {
                    "symbol": "x",
                    "size": 12
                  },
                  "x": [
                    0,
                    1,
                    2,
                    3,
                    4,
                    5,
                    6,
                    7,
                    8,
                    9,
                    10,
                    11,
                    12,
                    13,
                    14,
                    15,
                    16,
                    17,
                    18,
                    19,
                    20,
                    21,
                    22,
                    23,
                    24,
                    25,
                    26,
                    27,
                    28,
                    29,
                    30,
                    31,
                    32,
                    33,
                    34,
                    35,
                    36,
                    37,
                    38,
                    39,
                    40,
                    41,
                    42,
                    43,
                    44,
                    45,
                    46,
                    47,
                    48,
                    49
                  ],
                  "line": {
                    "color": "rgba(166, 206, 227, 0.8999999999999999)",
                    "dash": "solid",
                    "shape": "linear",
                    "width": 1.3
                  },
                  "type": "scatter"
                },
                {
                  "name": "corn",
                  "text": "",
                  "y": [
                    34.9,
                    0,
                    7.3,
                    69.5,
                    34.6,
                    183.2,
                    0,
                    26.9,
                    3.5,
                    57.8,
                    0,
                    24,
                    2228.5,
                    1123.2,
                    2529.8,
                    457.3,
                    179.1,
                    91.4,
                    0,
                    54.1,
                    0,
                    381.5,
                    1264.3,
                    110,
                    428.8,
                    5.4,
                    1735.9,
                    0,
                    0,
                    10.1,
                    11.2,
                    106.1,
                    92.2,
                    236.1,
                    535.1,
                    27.5,
                    11.7,
                    112.1,
                    0,
                    32.1,
                    643.6,
                    88.8,
                    167.2,
                    5.3,
                    0,
                    39.5,
                    29.5,
                    3.5,
                    460.5,
                    9
                  ],
                  "mode": "markers",
                  "marker": {
                    "symbol": "x",
                    "size": 12
                  },
                  "x": [
                    0,
                    1,
                    2,
                    3,
                    4,
                    5,
                    6,
                    7,
                    8,
                    9,
                    10,
                    11,
                    12,
                    13,
                    14,
                    15,
                    16,
                    17,
                    18,
                    19,
                    20,
                    21,
                    22,
                    23,
                    24,
                    25,
                    26,
                    27,
                    28,
                    29,
                    30,
                    31,
                    32,
                    33,
                    34,
                    35,
                    36,
                    37,
                    38,
                    39,
                    40,
                    41,
                    42,
                    43,
                    44,
                    45,
                    46,
                    47,
                    48,
                    49
                  ],
                  "line": {
                    "color": "rgba(31, 120, 180, 0.8999999999999999)",
                    "dash": "solid",
                    "shape": "linear",
                    "width": 1.3
                  },
                  "type": "scatter"
                },
                {
                  "name": "wheat",
                  "text": "",
                  "y": [
                    70,
                    0,
                    48.7,
                    114.5,
                    249.3,
                    400.5,
                    0,
                    22.9,
                    1.8,
                    65.4,
                    0,
                    568.2,
                    223.8,
                    114,
                    3.1,
                    1426.5,
                    149.3,
                    78.7,
                    0,
                    55.8,
                    0,
                    247,
                    538.1,
                    102.2,
                    161.7,
                    1198.1,
                    292.3,
                    5.4,
                    0,
                    6.7,
                    13.9,
                    29.9,
                    200.3,
                    1664.5,
                    207.4,
                    324.8,
                    320.3,
                    41,
                    0,
                    55.3,
                    704.5,
                    100,
                    309.7,
                    42.8,
                    0,
                    77.5,
                    786.3,
                    1.6,
                    96.7,
                    20.7
                  ],
                  "mode": "markers",
                  "marker": {
                    "symbol": "x",
                    "size": 12
                  },
                  "x": [
                    0,
                    1,
                    2,
                    3,
                    4,
                    5,
                    6,
                    7,
                    8,
                    9,
                    10,
                    11,
                    12,
                    13,
                    14,
                    15,
                    16,
                    17,
                    18,
                    19,
                    20,
                    21,
                    22,
                    23,
                    24,
                    25,
                    26,
                    27,
                    28,
                    29,
                    30,
                    31,
                    32,
                    33,
                    34,
                    35,
                    36,
                    37,
                    38,
                    39,
                    40,
                    41,
                    42,
                    43,
                    44,
                    45,
                    46,
                    47,
                    48,
                    49
                  ],
                  "line": {
                    "color": "rgba(178, 223, 138, 0.8999999999999999)",
                    "dash": "solid",
                    "shape": "linear",
                    "width": 1.3
                  },
                  "type": "scatter"
                },
                {
                  "name": "cotton",
                  "text": "",
                  "y": [
                    317.61,
                    0,
                    423.95,
                    665.44,
                    1064.95,
                    0,
                    0,
                    0,
                    78.24,
                    1154.07,
                    0,
                    0,
                    0,
                    0,
                    0,
                    43.98,
                    0,
                    280.42,
                    0,
                    0,
                    0,
                    0,
                    0,
                    494.75,
                    345.29,
                    0,
                    0,
                    0,
                    0,
                    0,
                    72.62,
                    0,
                    470.86,
                    0,
                    0,
                    110.54,
                    0,
                    0,
                    0,
                    206.1,
                    0,
                    363.83,
                    2308.76,
                    0,
                    0,
                    64.84,
                    0,
                    0,
                    0,
                    0
                  ],
                  "mode": "markers",
                  "marker": {
                    "symbol": "x",
                    "size": 12
                  },
                  "x": [
                    0,
                    1,
                    2,
                    3,
                    4,
                    5,
                    6,
                    7,
                    8,
                    9,
                    10,
                    11,
                    12,
                    13,
                    14,
                    15,
                    16,
                    17,
                    18,
                    19,
                    20,
                    21,
                    22,
                    23,
                    24,
                    25,
                    26,
                    27,
                    28,
                    29,
                    30,
                    31,
                    32,
                    33,
                    34,
                    35,
                    36,
                    37,
                    38,
                    39,
                    40,
                    41,
                    42,
                    43,
                    44,
                    45,
                    46,
                    47,
                    48,
                    49
                  ],
                  "line": {
                    "color": "rgba(51, 160, 44, 0.8999999999999999)",
                    "dash": "solid",
                    "shape": "linear",
                    "width": 1.3
                  },
                  "type": "scatter"
                },
                {
                  "name": "text",
                  "text": "",
                  "y": [
                    "Alabama<br>Beef 34.4 Dairy 4.06<br>Fruits 25.11 Veggies 14.33<br>Wheat 70.0 Corn 34.9",
                    "Alaska<br>Beef 0.2 Dairy 0.19<br>Fruits 0.0 Veggies 1.56<br>Wheat 0.0 Corn 0.0",
                    "Arizona<br>Beef 71.3 Dairy 105.48<br>Fruits 60.27 Veggies 386.91<br>Wheat 48.7 Corn 7.3",
                    "Arkansas<br>Beef 53.2 Dairy 3.53<br>Fruits 6.88 Veggies 11.45<br>Wheat 114.5 Corn 69.5",
                    " California<br>Beef 228.7 Dairy 929.95<br>Fruits 8736.4 Veggies 2106.79<br>Wheat 249.3 Corn 34.6",
                    "Colorado<br>Beef 261.4 Dairy 71.94<br>Fruits 17.99 Veggies 118.27<br>Wheat 400.5 Corn 183.2",
                    "Connecticut<br>Beef 1.1 Dairy 9.49<br>Fruits 13.1 Veggies 11.16<br>Wheat 0.0 Corn 0.0",
                    "Delaware<br>Beef 0.4 Dairy 2.3<br>Fruits 1.53 Veggies 20.03<br>Wheat 22.9 Corn 26.9",
                    "Florida<br>Beef 42.6 Dairy 66.31<br>Fruits 1371.36 Veggies 450.86<br>Wheat 1.8 Corn 3.5",
                    "Georgia<br>Beef 31.0 Dairy 38.38<br>Fruits 233.51 Veggies 154.77<br>Wheat 65.4 Corn 57.8",
                    "Hawaii<br>Beef 4.0 Dairy 1.16<br>Fruits 55.51 Veggies 24.83<br>Wheat 0.0 Corn 0.0",
                    "Idaho<br>Beef 119.8 Dairy 294.6<br>Fruits 21.64 Veggies 319.19<br>Wheat 568.2 Corn 24.0",
                    "Illinois<br>Beef 53.7 Dairy 45.82<br>Fruits 12.53 Veggies 39.95<br>Wheat 223.8 Corn 2228.5",
                    "Indiana<br>Beef 21.9 Dairy 89.7<br>Fruits 12.98 Veggies 37.89<br>Wheat 114.0 Corn 1123.2",
                    "Iowa<br>Beef 289.8 Dairy 107.0<br>Fruits 3.24 Veggies 7.1<br>Wheat 3.1 Corn 2529.8",
                    "Kansas<br>Beef 659.3 Dairy 65.45<br>Fruits 3.11 Veggies 9.32<br>Wheat 1426.5 Corn 457.3",
                    "Kentucky<br>Beef 54.8 Dairy 28.27<br>Fruits 6.6 Veggies 0.0<br>Wheat 149.3 Corn 179.1",
                    "Louisiana<br>Beef 19.8 Dairy 6.02<br>Fruits 17.83 Veggies 17.25<br>Wheat 78.7 Corn 91.4",
                    "Maine<br>Beef 1.4 Dairy 16.18<br>Fruits 52.01 Veggies 62.9<br>Wheat 0.0 Corn 0.0",
                    "Maryland<br>Beef 5.6 Dairy 24.81<br>Fruits 12.9 Veggies 20.43<br>Wheat 55.8 Corn 54.1",
                    "Massachusetts<br>Beef 0.6 Dairy 5.81<br>Fruits 80.83 Veggies 21.13<br>Wheat 0.0 Corn 0.0",
                    "Michigan<br>Beef 37.7 Dairy 214.82<br>Fruits 257.69 Veggies 189.96<br>Wheat 247.0 Corn 381.5",
                    "Minnesota<br>Beef 112.3 Dairy 218.05<br>Fruits 7.91 Veggies 120.37<br>Wheat 538.1 Corn 1264.3",
                    "Mississippi<br>Beef 12.8 Dairy 5.45<br>Fruits 17.04 Veggies 27.87<br>Wheat 102.2 Corn 110.0",
                    "Missouri<br>Beef 137.2 Dairy 34.26<br>Fruits 13.18 Veggies 17.9<br>Wheat 161.7 Corn 428.8",
                    "Montana<br>Beef 105.0 Dairy 6.82<br>Fruits 3.3 Veggies 45.27<br>Wheat 1198.1 Corn 5.4",
                    "Nebraska<br>Beef 762.2 Dairy 30.07<br>Fruits 2.16 Veggies 53.5<br>Wheat 292.3 Corn 1735.9",
                    "Nevada<br>Beef 21.8 Dairy 16.57<br>Fruits 1.19 Veggies 27.93<br>Wheat 5.4 Corn 0.0",
                    "New Hampshire<br>Beef 0.6 Dairy 7.46<br>Fruits 7.98 Veggies 4.5<br>Wheat 0.0 Corn 0.0",
                    "New Jersey<br>Beef 0.8 Dairy 3.37<br>Fruits 109.45 Veggies 56.54<br>Wheat 6.7 Corn 10.1",
                    "New Mexico<br>Beef 117.2 Dairy 191.01<br>Fruits 101.9 Veggies 43.88<br>Wheat 13.9 Corn 11.2",
                    "New York<br>Beef 22.2 Dairy 331.8<br>Fruits 202.56 Veggies 143.37<br>Wheat 29.9 Corn 106.1",
                    "North Carolina<br>Beef 24.8 Dairy 24.9<br>Fruits 74.47 Veggies 150.45<br>Wheat 200.3 Corn 92.2",
                    "North Dakota<br>Beef 78.5 Dairy 8.14<br>Fruits 0.25 Veggies 130.79<br>Wheat 1664.5 Corn 236.1",
                    "Ohio<br>Beef 36.2 Dairy 134.57<br>Fruits 27.21 Veggies 53.53<br>Wheat 207.4 Corn 535.1",
                    "Oklahoma<br>Beef 337.6 Dairy 24.35<br>Fruits 9.24 Veggies 8.9<br>Wheat 324.8 Corn 27.5",
                    "Oregon<br>Beef 58.8 Dairy 63.66<br>Fruits 315.04 Veggies 126.5<br>Wheat 320.3 Corn 11.7",
                    "Pennsylvania<br>Beef 50.9 Dairy 280.87<br>Fruits 89.48 Veggies 38.26<br>Wheat 41.0 Corn 112.1",
                    "Rhode Island<br>Beef 0.1 Dairy 0.52<br>Fruits 2.83 Veggies 3.02<br>Wheat 0.0 Corn 0.0",
                    "South Carolina<br>Beef 15.2 Dairy 7.62<br>Fruits 53.45 Veggies 42.66<br>Wheat 55.3 Corn 32.1",
                    "South Dakota<br>Beef 193.5 Dairy 46.77<br>Fruits 0.8 Veggies 4.06<br>Wheat 704.5 Corn 643.6",
                    "Tennessee<br>Beef 51.1 Dairy 21.18<br>Fruits 6.23 Veggies 24.67<br>Wheat 100.0 Corn 88.8",
                    "Texas<br>Beef 961.0 Dairy 240.55<br>Fruits 99.9 Veggies 115.23<br>Wheat 309.7 Corn 167.2",
                    "Utah<br>Beef 27.9 Dairy 48.6<br>Fruits 12.34 Veggies 6.6<br>Wheat 42.8 Corn 5.3",
                    "Vermont<br>Beef 6.2 Dairy 65.98<br>Fruits 8.01 Veggies 4.05<br>Wheat 0.0 Corn 0.0",
                    "Virginia<br>Beef 39.5 Dairy 47.85<br>Fruits 36.48 Veggies 27.25<br>Wheat 77.5 Corn 39.5",
                    "Washington<br>Beef 59.2 Dairy 154.18<br>Fruits 1738.57 Veggies 363.79<br>Wheat 786.3 Corn 29.5",
                    "West Virginia<br>Beef 12.0 Dairy 3.9<br>Fruits 11.54 Veggies 0.0<br>Wheat 1.6 Corn 3.5",
                    "Wisconsin<br>Beef 107.3 Dairy 633.6<br>Fruits 133.8 Veggies 148.99<br>Wheat 96.7 Corn 460.5",
                    "Wyoming<br>Beef 75.1 Dairy 2.89<br>Fruits 0.17 Veggies 10.23<br>Wheat 20.7 Corn 9.0"
                  ],
                  "mode": "markers",
                  "marker": {
                    "symbol": "x",
                    "size": 12
                  },
                  "x": [
                    0,
                    1,
                    2,
                    3,
                    4,
                    5,
                    6,
                    7,
                    8,
                    9,
                    10,
                    11,
                    12,
                    13,
                    14,
                    15,
                    16,
                    17,
                    18,
                    19,
                    20,
                    21,
                    22,
                    23,
                    24,
                    25,
                    26,
                    27,
                    28,
                    29,
                    30,
                    31,
                    32,
                    33,
                    34,
                    35,
                    36,
                    37,
                    38,
                    39,
                    40,
                    41,
                    42,
                    43,
                    44,
                    45,
                    46,
                    47,
                    48,
                    49
                  ],
                  "line": {
                    "color": "rgba(251, 154, 153, 0.8999999999999999)",
                    "dash": "solid",
                    "shape": "linear",
                    "width": 1.3
                  },
                  "type": "scatter"
                }
              ],
              "config": {
                "plotlyServerURL": "https://plot.ly",
                "linkText": "Export to plot.ly",
                "showLink": true
              },
              "layout": {
                "template": {
                  "layout": {
                    "shapedefaults": {
                      "line": {
                        "color": "#2a3f5f"
                      }
                    },
                    "polar": {
                      "radialaxis": {
                        "ticks": "",
                        "gridcolor": "white",
                        "linecolor": "white"
                      },
                      "bgcolor": "#E5ECF6",
                      "angularaxis": {
                        "ticks": "",
                        "gridcolor": "white",
                        "linecolor": "white"
                      }
                    },
                    "colorway": [
                      "#636efa",
                      "#EF553B",
                      "#00cc96",
                      "#ab63fa",
                      "#FFA15A",
                      "#19d3f3",
                      "#FF6692",
                      "#B6E880",
                      "#FF97FF",
                      "#FECB52"
                    ],
                    "xaxis": {
                      "automargin": true,
                      "title": {
                        "standoff": 15
                      },
                      "zerolinewidth": 2,
                      "ticks": "",
                      "zerolinecolor": "white",
                      "gridcolor": "white",
                      "linecolor": "white"
                    },
                    "colorscale": {
                      "diverging": [
                        [
                          0,
                          "#8e0152"
                        ],
                        [
                          0.1,
                          "#c51b7d"
                        ],
                        [
                          0.2,
                          "#de77ae"
                        ],
                        [
                          0.3,
                          "#f1b6da"
                        ],
                        [
                          0.4,
                          "#fde0ef"
                        ],
                        [
                          0.5,
                          "#f7f7f7"
                        ],
                        [
                          0.6,
                          "#e6f5d0"
                        ],
                        [
                          0.7,
                          "#b8e186"
                        ],
                        [
                          0.8,
                          "#7fbc41"
                        ],
                        [
                          0.9,
                          "#4d9221"
                        ],
                        [
                          1,
                          "#276419"
                        ]
                      ],
                      "sequential": [
                        [
                          0,
                          "#0d0887"
                        ],
                        [
                          0.1111111111111111,
                          "#46039f"
                        ],
                        [
                          0.2222222222222222,
                          "#7201a8"
                        ],
                        [
                          0.3333333333333333,
                          "#9c179e"
                        ],
                        [
                          0.4444444444444444,
                          "#bd3786"
                        ],
                        [
                          0.5555555555555556,
                          "#d8576b"
                        ],
                        [
                          0.6666666666666666,
                          "#ed7953"
                        ],
                        [
                          0.7777777777777778,
                          "#fb9f3a"
                        ],
                        [
                          0.8888888888888888,
                          "#fdca26"
                        ],
                        [
                          1,
                          "#f0f921"
                        ]
                      ],
                      "sequentialminus": [
                        [
                          0,
                          "#0d0887"
                        ],
                        [
                          0.1111111111111111,
                          "#46039f"
                        ],
                        [
                          0.2222222222222222,
                          "#7201a8"
                        ],
                        [
                          0.3333333333333333,
                          "#9c179e"
                        ],
                        [
                          0.4444444444444444,
                          "#bd3786"
                        ],
                        [
                          0.5555555555555556,
                          "#d8576b"
                        ],
                        [
                          0.6666666666666666,
                          "#ed7953"
                        ],
                        [
                          0.7777777777777778,
                          "#fb9f3a"
                        ],
                        [
                          0.8888888888888888,
                          "#fdca26"
                        ],
                        [
                          1,
                          "#f0f921"
                        ]
                      ]
                    },
                    "paper_bgcolor": "white",
                    "plot_bgcolor": "#E5ECF6",
                    "title": {
                      "x": 0.05
                    },
                    "scene": {
                      "zaxis": {
                        "backgroundcolor": "#E5ECF6",
                        "ticks": "",
                        "gridwidth": 2,
                        "showbackground": true,
                        "zerolinecolor": "white",
                        "gridcolor": "white",
                        "linecolor": "white"
                      },
                      "xaxis": {
                        "backgroundcolor": "#E5ECF6",
                        "ticks": "",
                        "gridwidth": 2,
                        "showbackground": true,
                        "zerolinecolor": "white",
                        "gridcolor": "white",
                        "linecolor": "white"
                      },
                      "yaxis": {
                        "backgroundcolor": "#E5ECF6",
                        "ticks": "",
                        "gridwidth": 2,
                        "showbackground": true,
                        "zerolinecolor": "white",
                        "gridcolor": "white",
                        "linecolor": "white"
                      }
                    },
                    "yaxis": {
                      "automargin": true,
                      "title": {
                        "standoff": 15
                      },
                      "zerolinewidth": 2,
                      "ticks": "",
                      "zerolinecolor": "white",
                      "gridcolor": "white",
                      "linecolor": "white"
                    },
                    "annotationdefaults": {
                      "arrowwidth": 1,
                      "arrowhead": 0,
                      "arrowcolor": "#2a3f5f"
                    },
                    "hoverlabel": {
                      "align": "left"
                    },
                    "ternary": {
                      "bgcolor": "#E5ECF6",
                      "baxis": {
                        "ticks": "",
                        "gridcolor": "white",
                        "linecolor": "white"
                      },
                      "caxis": {
                        "ticks": "",
                        "gridcolor": "white",
                        "linecolor": "white"
                      },
                      "aaxis": {
                        "ticks": "",
                        "gridcolor": "white",
                        "linecolor": "white"
                      }
                    },
                    "mapbox": {
                      "style": "light"
                    },
                    "hovermode": "closest",
                    "font": {
                      "color": "#2a3f5f"
                    },
                    "geo": {
                      "showland": true,
                      "landcolor": "#E5ECF6",
                      "showlakes": true,
                      "bgcolor": "white",
                      "subunitcolor": "white",
                      "lakecolor": "white"
                    },
                    "coloraxis": {
                      "colorbar": {
                        "outlinewidth": 0,
                        "ticks": ""
                      }
                    }
                  },
                  "data": {
                    "mesh3d": [
                      {
                        "colorbar": {
                          "outlinewidth": 0,
                          "ticks": ""
                        },
                        "type": "mesh3d"
                      }
                    ],
                    "scattercarpet": [
                      {
                        "marker": {
                          "colorbar": {
                            "outlinewidth": 0,
                            "ticks": ""
                          }
                        },
                        "type": "scattercarpet"
                      }
                    ],
                    "pie": [
                      {
                        "automargin": true,
                        "type": "pie"
                      }
                    ],
                    "surface": [
                      {
                        "colorbar": {
                          "outlinewidth": 0,
                          "ticks": ""
                        },
                        "type": "surface",
                        "colorscale": [
                          [
                            0,
                            "#0d0887"
                          ],
                          [
                            0.1111111111111111,
                            "#46039f"
                          ],
                          [
                            0.2222222222222222,
                            "#7201a8"
                          ],
                          [
                            0.3333333333333333,
                            "#9c179e"
                          ],
                          [
                            0.4444444444444444,
                            "#bd3786"
                          ],
                          [
                            0.5555555555555556,
                            "#d8576b"
                          ],
                          [
                            0.6666666666666666,
                            "#ed7953"
                          ],
                          [
                            0.7777777777777778,
                            "#fb9f3a"
                          ],
                          [
                            0.8888888888888888,
                            "#fdca26"
                          ],
                          [
                            1,
                            "#f0f921"
                          ]
                        ]
                      }
                    ],
                    "table": [
                      {
                        "header": {
                          "line": {
                            "color": "white"
                          },
                          "fill": {
                            "color": "#C8D4E3"
                          }
                        },
                        "cells": {
                          "line": {
                            "color": "white"
                          },
                          "fill": {
                            "color": "#EBF0F8"
                          }
                        },
                        "type": "table"
                      }
                    ],
                    "scatterpolargl": [
                      {
                        "marker": {
                          "colorbar": {
                            "outlinewidth": 0,
                            "ticks": ""
                          }
                        },
                        "type": "scatterpolargl"
                      }
                    ],
                    "contour": [
                      {
                        "colorbar": {
                          "outlinewidth": 0,
                          "ticks": ""
                        },
                        "type": "contour",
                        "colorscale": [
                          [
                            0,
                            "#0d0887"
                          ],
                          [
                            0.1111111111111111,
                            "#46039f"
                          ],
                          [
                            0.2222222222222222,
                            "#7201a8"
                          ],
                          [
                            0.3333333333333333,
                            "#9c179e"
                          ],
                          [
                            0.4444444444444444,
                            "#bd3786"
                          ],
                          [
                            0.5555555555555556,
                            "#d8576b"
                          ],
                          [
                            0.6666666666666666,
                            "#ed7953"
                          ],
                          [
                            0.7777777777777778,
                            "#fb9f3a"
                          ],
                          [
                            0.8888888888888888,
                            "#fdca26"
                          ],
                          [
                            1,
                            "#f0f921"
                          ]
                        ]
                      }
                    ],
                    "carpet": [
                      {
                        "type": "carpet",
                        "baxis": {
                          "minorgridcolor": "white",
                          "gridcolor": "white",
                          "linecolor": "white",
                          "endlinecolor": "#2a3f5f",
                          "startlinecolor": "#2a3f5f"
                        },
                        "aaxis": {
                          "minorgridcolor": "white",
                          "gridcolor": "white",
                          "linecolor": "white",
                          "endlinecolor": "#2a3f5f",
                          "startlinecolor": "#2a3f5f"
                        }
                      }
                    ],
                    "contourcarpet": [
                      {
                        "colorbar": {
                          "outlinewidth": 0,
                          "ticks": ""
                        },
                        "type": "contourcarpet"
                      }
                    ],
                    "heatmap": [
                      {
                        "colorbar": {
                          "outlinewidth": 0,
                          "ticks": ""
                        },
                        "type": "heatmap",
                        "colorscale": [
                          [
                            0,
                            "#0d0887"
                          ],
                          [
                            0.1111111111111111,
                            "#46039f"
                          ],
                          [
                            0.2222222222222222,
                            "#7201a8"
                          ],
                          [
                            0.3333333333333333,
                            "#9c179e"
                          ],
                          [
                            0.4444444444444444,
                            "#bd3786"
                          ],
                          [
                            0.5555555555555556,
                            "#d8576b"
                          ],
                          [
                            0.6666666666666666,
                            "#ed7953"
                          ],
                          [
                            0.7777777777777778,
                            "#fb9f3a"
                          ],
                          [
                            0.8888888888888888,
                            "#fdca26"
                          ],
                          [
                            1,
                            "#f0f921"
                          ]
                        ]
                      }
                    ],
                    "scattermapbox": [
                      {
                        "marker": {
                          "colorbar": {
                            "outlinewidth": 0,
                            "ticks": ""
                          }
                        },
                        "type": "scattermapbox"
                      }
                    ],
                    "scatter3d": [
                      {
                        "marker": {
                          "colorbar": {
                            "outlinewidth": 0,
                            "ticks": ""
                          }
                        },
                        "line": {
                          "colorbar": {
                            "outlinewidth": 0,
                            "ticks": ""
                          }
                        },
                        "type": "scatter3d"
                      }
                    ],
                    "scattergl": [
                      {
                        "marker": {
                          "colorbar": {
                            "outlinewidth": 0,
                            "ticks": ""
                          }
                        },
                        "type": "scattergl"
                      }
                    ],
                    "scatterternary": [
                      {
                        "marker": {
                          "colorbar": {
                            "outlinewidth": 0,
                            "ticks": ""
                          }
                        },
                        "type": "scatterternary"
                      }
                    ],
                    "histogram": [
                      {
                        "marker": {
                          "colorbar": {
                            "outlinewidth": 0,
                            "ticks": ""
                          }
                        },
                        "type": "histogram"
                      }
                    ],
                    "heatmapgl": [
                      {
                        "colorbar": {
                          "outlinewidth": 0,
                          "ticks": ""
                        },
                        "type": "heatmapgl",
                        "colorscale": [
                          [
                            0,
                            "#0d0887"
                          ],
                          [
                            0.1111111111111111,
                            "#46039f"
                          ],
                          [
                            0.2222222222222222,
                            "#7201a8"
                          ],
                          [
                            0.3333333333333333,
                            "#9c179e"
                          ],
                          [
                            0.4444444444444444,
                            "#bd3786"
                          ],
                          [
                            0.5555555555555556,
                            "#d8576b"
                          ],
                          [
                            0.6666666666666666,
                            "#ed7953"
                          ],
                          [
                            0.7777777777777778,
                            "#fb9f3a"
                          ],
                          [
                            0.8888888888888888,
                            "#fdca26"
                          ],
                          [
                            1,
                            "#f0f921"
                          ]
                        ]
                      }
                    ],
                    "scatterpolar": [
                      {
                        "marker": {
                          "colorbar": {
                            "outlinewidth": 0,
                            "ticks": ""
                          }
                        },
                        "type": "scatterpolar"
                      }
                    ],
                    "histogram2d": [
                      {
                        "colorbar": {
                          "outlinewidth": 0,
                          "ticks": ""
                        },
                        "type": "histogram2d",
                        "colorscale": [
                          [
                            0,
                            "#0d0887"
                          ],
                          [
                            0.1111111111111111,
                            "#46039f"
                          ],
                          [
                            0.2222222222222222,
                            "#7201a8"
                          ],
                          [
                            0.3333333333333333,
                            "#9c179e"
                          ],
                          [
                            0.4444444444444444,
                            "#bd3786"
                          ],
                          [
                            0.5555555555555556,
                            "#d8576b"
                          ],
                          [
                            0.6666666666666666,
                            "#ed7953"
                          ],
                          [
                            0.7777777777777778,
                            "#fb9f3a"
                          ],
                          [
                            0.8888888888888888,
                            "#fdca26"
                          ],
                          [
                            1,
                            "#f0f921"
                          ]
                        ]
                      }
                    ],
                    "scattergeo": [
                      {
                        "marker": {
                          "colorbar": {
                            "outlinewidth": 0,
                            "ticks": ""
                          }
                        },
                        "type": "scattergeo"
                      }
                    ],
                    "bar": [
                      {
                        "marker": {
                          "line": {
                            "color": "#E5ECF6",
                            "width": 0.5
                          }
                        },
                        "type": "bar",
                        "error_x": {
                          "color": "#2a3f5f"
                        },
                        "error_y": {
                          "color": "#2a3f5f"
                        }
                      }
                    ],
                    "choropleth": [
                      {
                        "colorbar": {
                          "outlinewidth": 0,
                          "ticks": ""
                        },
                        "type": "choropleth"
                      }
                    ],
                    "parcoords": [
                      {
                        "line": {
                          "colorbar": {
                            "outlinewidth": 0,
                            "ticks": ""
                          }
                        },
                        "type": "parcoords"
                      }
                    ],
                    "barpolar": [
                      {
                        "marker": {
                          "line": {
                            "color": "#E5ECF6",
                            "width": 0.5
                          }
                        },
                        "type": "barpolar"
                      }
                    ],
                    "histogram2dcontour": [
                      {
                        "colorbar": {
                          "outlinewidth": 0,
                          "ticks": ""
                        },
                        "type": "histogram2dcontour",
                        "colorscale": [
                          [
                            0,
                            "#0d0887"
                          ],
                          [
                            0.1111111111111111,
                            "#46039f"
                          ],
                          [
                            0.2222222222222222,
                            "#7201a8"
                          ],
                          [
                            0.3333333333333333,
                            "#9c179e"
                          ],
                          [
                            0.4444444444444444,
                            "#bd3786"
                          ],
                          [
                            0.5555555555555556,
                            "#d8576b"
                          ],
                          [
                            0.6666666666666666,
                            "#ed7953"
                          ],
                          [
                            0.7777777777777778,
                            "#fb9f3a"
                          ],
                          [
                            0.8888888888888888,
                            "#fdca26"
                          ],
                          [
                            1,
                            "#f0f921"
                          ]
                        ]
                      }
                    ],
                    "scatter": [
                      {
                        "marker": {
                          "colorbar": {
                            "outlinewidth": 0,
                            "ticks": ""
                          }
                        },
                        "type": "scatter"
                      }
                    ]
                  }
                },
                "title": {
                  "font": {
                    "color": "#4D5663"
                  }
                },
                "paper_bgcolor": "#F5F6F9",
                "plot_bgcolor": "#F5F6F9",
                "yaxis": {
                  "tickfont": {
                    "color": "#4D5663"
                  },
                  "zerolinecolor": "#E1E5ED",
                  "title": {
                    "text": "",
                    "font": {
                      "color": "#4D5663"
                    }
                  },
                  "gridcolor": "#E1E5ED",
                  "showgrid": true
                },
                "xaxis": {
                  "tickfont": {
                    "color": "#4D5663"
                  },
                  "zerolinecolor": "#E1E5ED",
                  "title": {
                    "text": "",
                    "font": {
                      "color": "#4D5663"
                    }
                  },
                  "gridcolor": "#E1E5ED",
                  "showgrid": true
                },
                "legend": {
                  "bgcolor": "#F5F6F9",
                  "font": {
                    "color": "#4D5663"
                  }
                }
              }
            }
          },
          "metadata": {
            "tags": []
          }
        }
      ]
    },
    {
      "cell_type": "code",
      "metadata": {
        "id": "pH1i2kmaF5ar",
        "colab_type": "code",
        "colab": {}
      },
      "source": [
        ""
      ],
      "execution_count": 0,
      "outputs": []
    }
  ]
}